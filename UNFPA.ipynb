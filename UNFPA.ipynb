{
  "nbformat": 4,
  "nbformat_minor": 0,
  "metadata": {
    "colab": {
      "provenance": [],
      "collapsed_sections": [
        "KrLY79PI_3rb",
        "YERuetGkAfij",
        "UWeDX9ZVBBGL",
        "5TkqvHTAETYw"
      ]
    },
    "kernelspec": {
      "name": "python3",
      "display_name": "Python 3"
    },
    "language_info": {
      "name": "python"
    }
  },
  "cells": [
    {
      "cell_type": "markdown",
      "source": [
        "# Fondo de Población de las Naciones Unidas - Modelo Analítico"
      ],
      "metadata": {
        "id": "tNKX3m1ZhPFm"
      }
    },
    {
      "cell_type": "code",
      "source": [
        "!pip install unidecode"
      ],
      "metadata": {
        "colab": {
          "base_uri": "https://localhost:8080/"
        },
        "id": "sCgecdNUNRoC",
        "outputId": "90a13aec-7a2b-4301-f84b-78dd7befc192"
      },
      "execution_count": 127,
      "outputs": [
        {
          "output_type": "stream",
          "name": "stdout",
          "text": [
            "Requirement already satisfied: unidecode in /usr/local/lib/python3.10/dist-packages (1.3.8)\n"
          ]
        }
      ]
    },
    {
      "cell_type": "code",
      "execution_count": 128,
      "metadata": {
        "colab": {
          "base_uri": "https://localhost:8080/"
        },
        "id": "ehwRAjEwhNZF",
        "outputId": "23833541-2f48-4e7a-f013-e11920e0744f"
      },
      "outputs": [
        {
          "output_type": "stream",
          "name": "stderr",
          "text": [
            "[nltk_data] Downloading package stopwords to /root/nltk_data...\n",
            "[nltk_data]   Package stopwords is already up-to-date!\n",
            "[nltk_data] Downloading package punkt to /root/nltk_data...\n",
            "[nltk_data]   Package punkt is already up-to-date!\n",
            "[nltk_data] Downloading package wordnet to /root/nltk_data...\n",
            "[nltk_data]   Package wordnet is already up-to-date!\n"
          ]
        }
      ],
      "source": [
        "import pandas as pd\n",
        "import numpy as np\n",
        "import matplotlib.pyplot as plt\n",
        "import seaborn as sns\n",
        "import re\n",
        "import unidecode\n",
        "import unicodedata\n",
        "import nltk\n",
        "\n",
        "#PLN\n",
        "from nltk.tokenize import word_tokenize\n",
        "from nltk.corpus import stopwords\n",
        "from nltk.stem import WordNetLemmatizer\n",
        "\n",
        "#Material requerido para preprocesamiento de PLN\n",
        "nltk.download('stopwords')\n",
        "nltk.download('punkt')\n",
        "nltk.download('wordnet')\n",
        "\n",
        "#TF-IDF\n",
        "from sklearn.feature_extraction.text import TfidfVectorizer\n",
        "from collections import Counter\n",
        "\n",
        "#Preparación datos para el Modelo\n",
        "from sklearn.model_selection import train_test_split\n",
        "\n",
        "#Construcción del Modelo\n",
        "#Bayes\n",
        "from sklearn.naive_bayes import MultinomialNB\n",
        "from sklearn.metrics import classification_report, accuracy_score\n",
        "#SVM\n",
        "from sklearn.svm import SVC\n",
        "#Random Forest\n",
        "from sklearn.ensemble import RandomForestClassifier\n",
        "# Métricas de evaluación\n",
        "from sklearn.metrics import accuracy_score, precision_score, recall_score, f1_score, classification_report, roc_auc_score, confusion_matrix"
      ]
    },
    {
      "cell_type": "markdown",
      "source": [
        "## 0. Carga y Entendimiento de Datos"
      ],
      "metadata": {
        "id": "7H6XxI6g_nxO"
      }
    },
    {
      "cell_type": "code",
      "source": [
        "df_unfpa = pd.read_excel('./ODScat_345.xlsx',sheet_name='Datos')"
      ],
      "metadata": {
        "id": "09K8QpaZ8Z7b"
      },
      "execution_count": 129,
      "outputs": []
    },
    {
      "cell_type": "code",
      "source": [
        "df_unfpa.shape"
      ],
      "metadata": {
        "colab": {
          "base_uri": "https://localhost:8080/"
        },
        "id": "LuXxgRcRB1tM",
        "outputId": "7f769c6c-aa32-4cd0-c254-97c19ae367e0"
      },
      "execution_count": 130,
      "outputs": [
        {
          "output_type": "execute_result",
          "data": {
            "text/plain": [
              "(4049, 2)"
            ]
          },
          "metadata": {},
          "execution_count": 130
        }
      ]
    },
    {
      "cell_type": "code",
      "source": [
        "df_unfpa.dtypes"
      ],
      "metadata": {
        "colab": {
          "base_uri": "https://localhost:8080/",
          "height": 147
        },
        "id": "7jQIqZ2zBUrT",
        "outputId": "5ad41584-1415-4cf1-e9fc-b1b8181a9581"
      },
      "execution_count": 131,
      "outputs": [
        {
          "output_type": "execute_result",
          "data": {
            "text/plain": [
              "Textos_espanol    object\n",
              "sdg                int64\n",
              "dtype: object"
            ],
            "text/html": [
              "<div>\n",
              "<style scoped>\n",
              "    .dataframe tbody tr th:only-of-type {\n",
              "        vertical-align: middle;\n",
              "    }\n",
              "\n",
              "    .dataframe tbody tr th {\n",
              "        vertical-align: top;\n",
              "    }\n",
              "\n",
              "    .dataframe thead th {\n",
              "        text-align: right;\n",
              "    }\n",
              "</style>\n",
              "<table border=\"1\" class=\"dataframe\">\n",
              "  <thead>\n",
              "    <tr style=\"text-align: right;\">\n",
              "      <th></th>\n",
              "      <th>0</th>\n",
              "    </tr>\n",
              "  </thead>\n",
              "  <tbody>\n",
              "    <tr>\n",
              "      <th>Textos_espanol</th>\n",
              "      <td>object</td>\n",
              "    </tr>\n",
              "    <tr>\n",
              "      <th>sdg</th>\n",
              "      <td>int64</td>\n",
              "    </tr>\n",
              "  </tbody>\n",
              "</table>\n",
              "</div><br><label><b>dtype:</b> object</label>"
            ]
          },
          "metadata": {},
          "execution_count": 131
        }
      ]
    },
    {
      "cell_type": "code",
      "source": [
        "df_unfpa.head()"
      ],
      "metadata": {
        "colab": {
          "base_uri": "https://localhost:8080/",
          "height": 206
        },
        "id": "gKs9EctJBRbr",
        "outputId": "f6996c75-2b1c-4bd7-ad1f-d6a4f2b7688b"
      },
      "execution_count": 132,
      "outputs": [
        {
          "output_type": "execute_result",
          "data": {
            "text/plain": [
              "                                      Textos_espanol  sdg\n",
              "0  Por ejemplo, el nÃºmero de consultas externas ...    3\n",
              "1  En 2007, el gobierno central financió directam...    3\n",
              "2  Claramente, hay muchos otros factores en juego...    3\n",
              "3  Por ejemplo, el estado australiano de Victoria...    3\n",
              "4  El consumo anual de alcohol se estima en 15,7 ...    3"
            ],
            "text/html": [
              "\n",
              "  <div id=\"df-2fef4aec-fc74-4fc9-9c50-061fc3e9b444\" class=\"colab-df-container\">\n",
              "    <div>\n",
              "<style scoped>\n",
              "    .dataframe tbody tr th:only-of-type {\n",
              "        vertical-align: middle;\n",
              "    }\n",
              "\n",
              "    .dataframe tbody tr th {\n",
              "        vertical-align: top;\n",
              "    }\n",
              "\n",
              "    .dataframe thead th {\n",
              "        text-align: right;\n",
              "    }\n",
              "</style>\n",
              "<table border=\"1\" class=\"dataframe\">\n",
              "  <thead>\n",
              "    <tr style=\"text-align: right;\">\n",
              "      <th></th>\n",
              "      <th>Textos_espanol</th>\n",
              "      <th>sdg</th>\n",
              "    </tr>\n",
              "  </thead>\n",
              "  <tbody>\n",
              "    <tr>\n",
              "      <th>0</th>\n",
              "      <td>Por ejemplo, el nÃºmero de consultas externas ...</td>\n",
              "      <td>3</td>\n",
              "    </tr>\n",
              "    <tr>\n",
              "      <th>1</th>\n",
              "      <td>En 2007, el gobierno central financió directam...</td>\n",
              "      <td>3</td>\n",
              "    </tr>\n",
              "    <tr>\n",
              "      <th>2</th>\n",
              "      <td>Claramente, hay muchos otros factores en juego...</td>\n",
              "      <td>3</td>\n",
              "    </tr>\n",
              "    <tr>\n",
              "      <th>3</th>\n",
              "      <td>Por ejemplo, el estado australiano de Victoria...</td>\n",
              "      <td>3</td>\n",
              "    </tr>\n",
              "    <tr>\n",
              "      <th>4</th>\n",
              "      <td>El consumo anual de alcohol se estima en 15,7 ...</td>\n",
              "      <td>3</td>\n",
              "    </tr>\n",
              "  </tbody>\n",
              "</table>\n",
              "</div>\n",
              "    <div class=\"colab-df-buttons\">\n",
              "\n",
              "  <div class=\"colab-df-container\">\n",
              "    <button class=\"colab-df-convert\" onclick=\"convertToInteractive('df-2fef4aec-fc74-4fc9-9c50-061fc3e9b444')\"\n",
              "            title=\"Convert this dataframe to an interactive table.\"\n",
              "            style=\"display:none;\">\n",
              "\n",
              "  <svg xmlns=\"http://www.w3.org/2000/svg\" height=\"24px\" viewBox=\"0 -960 960 960\">\n",
              "    <path d=\"M120-120v-720h720v720H120Zm60-500h600v-160H180v160Zm220 220h160v-160H400v160Zm0 220h160v-160H400v160ZM180-400h160v-160H180v160Zm440 0h160v-160H620v160ZM180-180h160v-160H180v160Zm440 0h160v-160H620v160Z\"/>\n",
              "  </svg>\n",
              "    </button>\n",
              "\n",
              "  <style>\n",
              "    .colab-df-container {\n",
              "      display:flex;\n",
              "      gap: 12px;\n",
              "    }\n",
              "\n",
              "    .colab-df-convert {\n",
              "      background-color: #E8F0FE;\n",
              "      border: none;\n",
              "      border-radius: 50%;\n",
              "      cursor: pointer;\n",
              "      display: none;\n",
              "      fill: #1967D2;\n",
              "      height: 32px;\n",
              "      padding: 0 0 0 0;\n",
              "      width: 32px;\n",
              "    }\n",
              "\n",
              "    .colab-df-convert:hover {\n",
              "      background-color: #E2EBFA;\n",
              "      box-shadow: 0px 1px 2px rgba(60, 64, 67, 0.3), 0px 1px 3px 1px rgba(60, 64, 67, 0.15);\n",
              "      fill: #174EA6;\n",
              "    }\n",
              "\n",
              "    .colab-df-buttons div {\n",
              "      margin-bottom: 4px;\n",
              "    }\n",
              "\n",
              "    [theme=dark] .colab-df-convert {\n",
              "      background-color: #3B4455;\n",
              "      fill: #D2E3FC;\n",
              "    }\n",
              "\n",
              "    [theme=dark] .colab-df-convert:hover {\n",
              "      background-color: #434B5C;\n",
              "      box-shadow: 0px 1px 3px 1px rgba(0, 0, 0, 0.15);\n",
              "      filter: drop-shadow(0px 1px 2px rgba(0, 0, 0, 0.3));\n",
              "      fill: #FFFFFF;\n",
              "    }\n",
              "  </style>\n",
              "\n",
              "    <script>\n",
              "      const buttonEl =\n",
              "        document.querySelector('#df-2fef4aec-fc74-4fc9-9c50-061fc3e9b444 button.colab-df-convert');\n",
              "      buttonEl.style.display =\n",
              "        google.colab.kernel.accessAllowed ? 'block' : 'none';\n",
              "\n",
              "      async function convertToInteractive(key) {\n",
              "        const element = document.querySelector('#df-2fef4aec-fc74-4fc9-9c50-061fc3e9b444');\n",
              "        const dataTable =\n",
              "          await google.colab.kernel.invokeFunction('convertToInteractive',\n",
              "                                                    [key], {});\n",
              "        if (!dataTable) return;\n",
              "\n",
              "        const docLinkHtml = 'Like what you see? Visit the ' +\n",
              "          '<a target=\"_blank\" href=https://colab.research.google.com/notebooks/data_table.ipynb>data table notebook</a>'\n",
              "          + ' to learn more about interactive tables.';\n",
              "        element.innerHTML = '';\n",
              "        dataTable['output_type'] = 'display_data';\n",
              "        await google.colab.output.renderOutput(dataTable, element);\n",
              "        const docLink = document.createElement('div');\n",
              "        docLink.innerHTML = docLinkHtml;\n",
              "        element.appendChild(docLink);\n",
              "      }\n",
              "    </script>\n",
              "  </div>\n",
              "\n",
              "\n",
              "<div id=\"df-f2fc456c-0f50-47ca-8953-b93d999f0f3a\">\n",
              "  <button class=\"colab-df-quickchart\" onclick=\"quickchart('df-f2fc456c-0f50-47ca-8953-b93d999f0f3a')\"\n",
              "            title=\"Suggest charts\"\n",
              "            style=\"display:none;\">\n",
              "\n",
              "<svg xmlns=\"http://www.w3.org/2000/svg\" height=\"24px\"viewBox=\"0 0 24 24\"\n",
              "     width=\"24px\">\n",
              "    <g>\n",
              "        <path d=\"M19 3H5c-1.1 0-2 .9-2 2v14c0 1.1.9 2 2 2h14c1.1 0 2-.9 2-2V5c0-1.1-.9-2-2-2zM9 17H7v-7h2v7zm4 0h-2V7h2v10zm4 0h-2v-4h2v4z\"/>\n",
              "    </g>\n",
              "</svg>\n",
              "  </button>\n",
              "\n",
              "<style>\n",
              "  .colab-df-quickchart {\n",
              "      --bg-color: #E8F0FE;\n",
              "      --fill-color: #1967D2;\n",
              "      --hover-bg-color: #E2EBFA;\n",
              "      --hover-fill-color: #174EA6;\n",
              "      --disabled-fill-color: #AAA;\n",
              "      --disabled-bg-color: #DDD;\n",
              "  }\n",
              "\n",
              "  [theme=dark] .colab-df-quickchart {\n",
              "      --bg-color: #3B4455;\n",
              "      --fill-color: #D2E3FC;\n",
              "      --hover-bg-color: #434B5C;\n",
              "      --hover-fill-color: #FFFFFF;\n",
              "      --disabled-bg-color: #3B4455;\n",
              "      --disabled-fill-color: #666;\n",
              "  }\n",
              "\n",
              "  .colab-df-quickchart {\n",
              "    background-color: var(--bg-color);\n",
              "    border: none;\n",
              "    border-radius: 50%;\n",
              "    cursor: pointer;\n",
              "    display: none;\n",
              "    fill: var(--fill-color);\n",
              "    height: 32px;\n",
              "    padding: 0;\n",
              "    width: 32px;\n",
              "  }\n",
              "\n",
              "  .colab-df-quickchart:hover {\n",
              "    background-color: var(--hover-bg-color);\n",
              "    box-shadow: 0 1px 2px rgba(60, 64, 67, 0.3), 0 1px 3px 1px rgba(60, 64, 67, 0.15);\n",
              "    fill: var(--button-hover-fill-color);\n",
              "  }\n",
              "\n",
              "  .colab-df-quickchart-complete:disabled,\n",
              "  .colab-df-quickchart-complete:disabled:hover {\n",
              "    background-color: var(--disabled-bg-color);\n",
              "    fill: var(--disabled-fill-color);\n",
              "    box-shadow: none;\n",
              "  }\n",
              "\n",
              "  .colab-df-spinner {\n",
              "    border: 2px solid var(--fill-color);\n",
              "    border-color: transparent;\n",
              "    border-bottom-color: var(--fill-color);\n",
              "    animation:\n",
              "      spin 1s steps(1) infinite;\n",
              "  }\n",
              "\n",
              "  @keyframes spin {\n",
              "    0% {\n",
              "      border-color: transparent;\n",
              "      border-bottom-color: var(--fill-color);\n",
              "      border-left-color: var(--fill-color);\n",
              "    }\n",
              "    20% {\n",
              "      border-color: transparent;\n",
              "      border-left-color: var(--fill-color);\n",
              "      border-top-color: var(--fill-color);\n",
              "    }\n",
              "    30% {\n",
              "      border-color: transparent;\n",
              "      border-left-color: var(--fill-color);\n",
              "      border-top-color: var(--fill-color);\n",
              "      border-right-color: var(--fill-color);\n",
              "    }\n",
              "    40% {\n",
              "      border-color: transparent;\n",
              "      border-right-color: var(--fill-color);\n",
              "      border-top-color: var(--fill-color);\n",
              "    }\n",
              "    60% {\n",
              "      border-color: transparent;\n",
              "      border-right-color: var(--fill-color);\n",
              "    }\n",
              "    80% {\n",
              "      border-color: transparent;\n",
              "      border-right-color: var(--fill-color);\n",
              "      border-bottom-color: var(--fill-color);\n",
              "    }\n",
              "    90% {\n",
              "      border-color: transparent;\n",
              "      border-bottom-color: var(--fill-color);\n",
              "    }\n",
              "  }\n",
              "</style>\n",
              "\n",
              "  <script>\n",
              "    async function quickchart(key) {\n",
              "      const quickchartButtonEl =\n",
              "        document.querySelector('#' + key + ' button');\n",
              "      quickchartButtonEl.disabled = true;  // To prevent multiple clicks.\n",
              "      quickchartButtonEl.classList.add('colab-df-spinner');\n",
              "      try {\n",
              "        const charts = await google.colab.kernel.invokeFunction(\n",
              "            'suggestCharts', [key], {});\n",
              "      } catch (error) {\n",
              "        console.error('Error during call to suggestCharts:', error);\n",
              "      }\n",
              "      quickchartButtonEl.classList.remove('colab-df-spinner');\n",
              "      quickchartButtonEl.classList.add('colab-df-quickchart-complete');\n",
              "    }\n",
              "    (() => {\n",
              "      let quickchartButtonEl =\n",
              "        document.querySelector('#df-f2fc456c-0f50-47ca-8953-b93d999f0f3a button');\n",
              "      quickchartButtonEl.style.display =\n",
              "        google.colab.kernel.accessAllowed ? 'block' : 'none';\n",
              "    })();\n",
              "  </script>\n",
              "</div>\n",
              "\n",
              "    </div>\n",
              "  </div>\n"
            ],
            "application/vnd.google.colaboratory.intrinsic+json": {
              "type": "dataframe",
              "variable_name": "df_unfpa",
              "summary": "{\n  \"name\": \"df_unfpa\",\n  \"rows\": 4049,\n  \"fields\": [\n    {\n      \"column\": \"Textos_espanol\",\n      \"properties\": {\n        \"dtype\": \"string\",\n        \"num_unique_values\": 4049,\n        \"samples\": [\n          \"Los directores de escuela reclutados bajo el nuevo proceso de contrataci\\u00f3n pueden nombrar y despedir a los miembros de su equipo de liderazgo escolar y proponer el despido de hasta el 5% de los docentes de su escuela que hayan sido mal evaluados en el sistema nacional de evaluaci\\u00f3n de docentes. Al mismo tiempo, este nuevo marco ha establecido un mayor grado de responsabilidad para los directores de escuela. Seg\\u00fan el nuevo proceso de contrataci\\u00f3n, todos los directores de escuela son nombrados por un per\\u00edodo de cinco a\\u00f1os, despu\\u00e9s de lo cual deben volver a presentar una solicitud. Esto brinda la oportunidad de reevaluar peri\\u00f3dicamente, reconocer y reconocer a los directores que se desempe\\u00f1an bien y proporcionar incentivos para el desarrollo y la mejora continuos.\",\n          \"En su segunda fase integr\\u00f3 una historia cl\\u00ednica personal (con diagn\\u00f3sticos y tratamientos), con el sistema nacional de citas, para la atenci\\u00f3n electiva programada. Es importante destacar que la EDUS tambi\\u00e9n contiene un registro \\\"familiar\\\" de cada persona, en el que se registran sistem\\u00e1ticamente los factores determinantes de la salud y el bienestar, como otros miembros de la familia con enfermedades complejas y cualquier dificultad econ\\u00f3mica o de vivienda. Esto permite una evaluaci\\u00f3n m\\u00e1s completa de las necesidades individuales, as\\u00ed como elaborar perfiles sanitarios de la poblaci\\u00f3n local y predecir sus necesidades. En el futuro, la EDUS se vincular\\u00e1 a las im\\u00e1genes digitales, los registros de laboratorio, los registros de farmacia y las notas cl\\u00ednicas de los pacientes hospitalizados (tanto de enfermer\\u00eda como m\\u00e9dicas).\",\n          \"Como prioridad, se deben tomar medidas para garantizar que la capacidad de pago no sea un factor para acceder a la atenci\\u00f3n m\\u00e9dica. En particular, se deben investigar las razones que subyacen a la baja aceptaci\\u00f3n de las pruebas de detecci\\u00f3n del c\\u00e1ncer de mama y de cuello uterino. Comprender la variaci\\u00f3n a nivel de proveedor ser\\u00e1 fundamental para abordar las bajas tasas de supervivencia de Letonia despu\\u00e9s de un ataque al coraz\\u00f3n o un accidente cerebrovascular, por ejemplo.\"\n        ],\n        \"semantic_type\": \"\",\n        \"description\": \"\"\n      }\n    },\n    {\n      \"column\": \"sdg\",\n      \"properties\": {\n        \"dtype\": \"number\",\n        \"std\": 0,\n        \"min\": 3,\n        \"max\": 5,\n        \"num_unique_values\": 3,\n        \"samples\": [\n          3,\n          4,\n          5\n        ],\n        \"semantic_type\": \"\",\n        \"description\": \"\"\n      }\n    }\n  ]\n}"
            }
          },
          "metadata": {},
          "execution_count": 132
        }
      ]
    },
    {
      "cell_type": "code",
      "source": [
        "df_unfpa['Textos_espanol'].describe()"
      ],
      "metadata": {
        "colab": {
          "base_uri": "https://localhost:8080/",
          "height": 209
        },
        "id": "2EFX4EJoJL0b",
        "outputId": "f7da07df-3dfc-4543-eef1-d9a230232011"
      },
      "execution_count": 133,
      "outputs": [
        {
          "output_type": "execute_result",
          "data": {
            "text/plain": [
              "count                                                  4049\n",
              "unique                                                 4049\n",
              "top       Por ejemplo, el nÃºmero de consultas externas ...\n",
              "freq                                                      1\n",
              "Name: Textos_espanol, dtype: object"
            ],
            "text/html": [
              "<div>\n",
              "<style scoped>\n",
              "    .dataframe tbody tr th:only-of-type {\n",
              "        vertical-align: middle;\n",
              "    }\n",
              "\n",
              "    .dataframe tbody tr th {\n",
              "        vertical-align: top;\n",
              "    }\n",
              "\n",
              "    .dataframe thead th {\n",
              "        text-align: right;\n",
              "    }\n",
              "</style>\n",
              "<table border=\"1\" class=\"dataframe\">\n",
              "  <thead>\n",
              "    <tr style=\"text-align: right;\">\n",
              "      <th></th>\n",
              "      <th>Textos_espanol</th>\n",
              "    </tr>\n",
              "  </thead>\n",
              "  <tbody>\n",
              "    <tr>\n",
              "      <th>count</th>\n",
              "      <td>4049</td>\n",
              "    </tr>\n",
              "    <tr>\n",
              "      <th>unique</th>\n",
              "      <td>4049</td>\n",
              "    </tr>\n",
              "    <tr>\n",
              "      <th>top</th>\n",
              "      <td>Por ejemplo, el nÃºmero de consultas externas ...</td>\n",
              "    </tr>\n",
              "    <tr>\n",
              "      <th>freq</th>\n",
              "      <td>1</td>\n",
              "    </tr>\n",
              "  </tbody>\n",
              "</table>\n",
              "</div><br><label><b>dtype:</b> object</label>"
            ]
          },
          "metadata": {},
          "execution_count": 133
        }
      ]
    },
    {
      "cell_type": "code",
      "source": [
        "from scipy import stats as st\n",
        "\n",
        "textos = df_unfpa.copy()\n",
        "textos['Conteo'] = [len(x) for x in textos['Textos_espanol']]\n",
        "textos['Max'] = [[max([len(x) for x in i.split(' ')])][0] for i in textos['Textos_espanol']]\n",
        "textos['Min'] = [[min([len(x) for x in i.split(' ')])][0] for i in textos['Textos_espanol']]\n",
        "textos"
      ],
      "metadata": {
        "colab": {
          "base_uri": "https://localhost:8080/",
          "height": 423
        },
        "id": "_58Ng9OoS1ph",
        "outputId": "0c4f22a5-9e66-49bb-bd09-2a4a226aefeb"
      },
      "execution_count": 134,
      "outputs": [
        {
          "output_type": "execute_result",
          "data": {
            "text/plain": [
              "                                         Textos_espanol  sdg  Conteo  Max  Min\n",
              "0     Por ejemplo, el nÃºmero de consultas externas ...    3     944   18    1\n",
              "1     En 2007, el gobierno central financió directam...    3     476   14    1\n",
              "2     Claramente, hay muchos otros factores en juego...    3    1207   15    1\n",
              "3     Por ejemplo, el estado australiano de Victoria...    3    1090   17    1\n",
              "4     El consumo anual de alcohol se estima en 15,7 ...    3     895   13    1\n",
              "...                                                 ...  ...     ...  ...  ...\n",
              "4044  Para ello, identificará las cuestiones de géne...    5     822   16    1\n",
              "4045  La participación de las mujeres en roles de li...    5     514   16    1\n",
              "4046  Según el WEF, según las tendencias de 2016, po...    5     445   17    1\n",
              "4047  Sirve como recurso y foro para las agencias, c...    5    1017   15    1\n",
              "4048  Las áreas útiles para un mayor estudio y acció...    5     728   15    1\n",
              "\n",
              "[4049 rows x 5 columns]"
            ],
            "text/html": [
              "\n",
              "  <div id=\"df-4970bbd2-277e-4363-a155-a27e875f72f3\" class=\"colab-df-container\">\n",
              "    <div>\n",
              "<style scoped>\n",
              "    .dataframe tbody tr th:only-of-type {\n",
              "        vertical-align: middle;\n",
              "    }\n",
              "\n",
              "    .dataframe tbody tr th {\n",
              "        vertical-align: top;\n",
              "    }\n",
              "\n",
              "    .dataframe thead th {\n",
              "        text-align: right;\n",
              "    }\n",
              "</style>\n",
              "<table border=\"1\" class=\"dataframe\">\n",
              "  <thead>\n",
              "    <tr style=\"text-align: right;\">\n",
              "      <th></th>\n",
              "      <th>Textos_espanol</th>\n",
              "      <th>sdg</th>\n",
              "      <th>Conteo</th>\n",
              "      <th>Max</th>\n",
              "      <th>Min</th>\n",
              "    </tr>\n",
              "  </thead>\n",
              "  <tbody>\n",
              "    <tr>\n",
              "      <th>0</th>\n",
              "      <td>Por ejemplo, el nÃºmero de consultas externas ...</td>\n",
              "      <td>3</td>\n",
              "      <td>944</td>\n",
              "      <td>18</td>\n",
              "      <td>1</td>\n",
              "    </tr>\n",
              "    <tr>\n",
              "      <th>1</th>\n",
              "      <td>En 2007, el gobierno central financió directam...</td>\n",
              "      <td>3</td>\n",
              "      <td>476</td>\n",
              "      <td>14</td>\n",
              "      <td>1</td>\n",
              "    </tr>\n",
              "    <tr>\n",
              "      <th>2</th>\n",
              "      <td>Claramente, hay muchos otros factores en juego...</td>\n",
              "      <td>3</td>\n",
              "      <td>1207</td>\n",
              "      <td>15</td>\n",
              "      <td>1</td>\n",
              "    </tr>\n",
              "    <tr>\n",
              "      <th>3</th>\n",
              "      <td>Por ejemplo, el estado australiano de Victoria...</td>\n",
              "      <td>3</td>\n",
              "      <td>1090</td>\n",
              "      <td>17</td>\n",
              "      <td>1</td>\n",
              "    </tr>\n",
              "    <tr>\n",
              "      <th>4</th>\n",
              "      <td>El consumo anual de alcohol se estima en 15,7 ...</td>\n",
              "      <td>3</td>\n",
              "      <td>895</td>\n",
              "      <td>13</td>\n",
              "      <td>1</td>\n",
              "    </tr>\n",
              "    <tr>\n",
              "      <th>...</th>\n",
              "      <td>...</td>\n",
              "      <td>...</td>\n",
              "      <td>...</td>\n",
              "      <td>...</td>\n",
              "      <td>...</td>\n",
              "    </tr>\n",
              "    <tr>\n",
              "      <th>4044</th>\n",
              "      <td>Para ello, identificará las cuestiones de géne...</td>\n",
              "      <td>5</td>\n",
              "      <td>822</td>\n",
              "      <td>16</td>\n",
              "      <td>1</td>\n",
              "    </tr>\n",
              "    <tr>\n",
              "      <th>4045</th>\n",
              "      <td>La participación de las mujeres en roles de li...</td>\n",
              "      <td>5</td>\n",
              "      <td>514</td>\n",
              "      <td>16</td>\n",
              "      <td>1</td>\n",
              "    </tr>\n",
              "    <tr>\n",
              "      <th>4046</th>\n",
              "      <td>Según el WEF, según las tendencias de 2016, po...</td>\n",
              "      <td>5</td>\n",
              "      <td>445</td>\n",
              "      <td>17</td>\n",
              "      <td>1</td>\n",
              "    </tr>\n",
              "    <tr>\n",
              "      <th>4047</th>\n",
              "      <td>Sirve como recurso y foro para las agencias, c...</td>\n",
              "      <td>5</td>\n",
              "      <td>1017</td>\n",
              "      <td>15</td>\n",
              "      <td>1</td>\n",
              "    </tr>\n",
              "    <tr>\n",
              "      <th>4048</th>\n",
              "      <td>Las áreas útiles para un mayor estudio y acció...</td>\n",
              "      <td>5</td>\n",
              "      <td>728</td>\n",
              "      <td>15</td>\n",
              "      <td>1</td>\n",
              "    </tr>\n",
              "  </tbody>\n",
              "</table>\n",
              "<p>4049 rows × 5 columns</p>\n",
              "</div>\n",
              "    <div class=\"colab-df-buttons\">\n",
              "\n",
              "  <div class=\"colab-df-container\">\n",
              "    <button class=\"colab-df-convert\" onclick=\"convertToInteractive('df-4970bbd2-277e-4363-a155-a27e875f72f3')\"\n",
              "            title=\"Convert this dataframe to an interactive table.\"\n",
              "            style=\"display:none;\">\n",
              "\n",
              "  <svg xmlns=\"http://www.w3.org/2000/svg\" height=\"24px\" viewBox=\"0 -960 960 960\">\n",
              "    <path d=\"M120-120v-720h720v720H120Zm60-500h600v-160H180v160Zm220 220h160v-160H400v160Zm0 220h160v-160H400v160ZM180-400h160v-160H180v160Zm440 0h160v-160H620v160ZM180-180h160v-160H180v160Zm440 0h160v-160H620v160Z\"/>\n",
              "  </svg>\n",
              "    </button>\n",
              "\n",
              "  <style>\n",
              "    .colab-df-container {\n",
              "      display:flex;\n",
              "      gap: 12px;\n",
              "    }\n",
              "\n",
              "    .colab-df-convert {\n",
              "      background-color: #E8F0FE;\n",
              "      border: none;\n",
              "      border-radius: 50%;\n",
              "      cursor: pointer;\n",
              "      display: none;\n",
              "      fill: #1967D2;\n",
              "      height: 32px;\n",
              "      padding: 0 0 0 0;\n",
              "      width: 32px;\n",
              "    }\n",
              "\n",
              "    .colab-df-convert:hover {\n",
              "      background-color: #E2EBFA;\n",
              "      box-shadow: 0px 1px 2px rgba(60, 64, 67, 0.3), 0px 1px 3px 1px rgba(60, 64, 67, 0.15);\n",
              "      fill: #174EA6;\n",
              "    }\n",
              "\n",
              "    .colab-df-buttons div {\n",
              "      margin-bottom: 4px;\n",
              "    }\n",
              "\n",
              "    [theme=dark] .colab-df-convert {\n",
              "      background-color: #3B4455;\n",
              "      fill: #D2E3FC;\n",
              "    }\n",
              "\n",
              "    [theme=dark] .colab-df-convert:hover {\n",
              "      background-color: #434B5C;\n",
              "      box-shadow: 0px 1px 3px 1px rgba(0, 0, 0, 0.15);\n",
              "      filter: drop-shadow(0px 1px 2px rgba(0, 0, 0, 0.3));\n",
              "      fill: #FFFFFF;\n",
              "    }\n",
              "  </style>\n",
              "\n",
              "    <script>\n",
              "      const buttonEl =\n",
              "        document.querySelector('#df-4970bbd2-277e-4363-a155-a27e875f72f3 button.colab-df-convert');\n",
              "      buttonEl.style.display =\n",
              "        google.colab.kernel.accessAllowed ? 'block' : 'none';\n",
              "\n",
              "      async function convertToInteractive(key) {\n",
              "        const element = document.querySelector('#df-4970bbd2-277e-4363-a155-a27e875f72f3');\n",
              "        const dataTable =\n",
              "          await google.colab.kernel.invokeFunction('convertToInteractive',\n",
              "                                                    [key], {});\n",
              "        if (!dataTable) return;\n",
              "\n",
              "        const docLinkHtml = 'Like what you see? Visit the ' +\n",
              "          '<a target=\"_blank\" href=https://colab.research.google.com/notebooks/data_table.ipynb>data table notebook</a>'\n",
              "          + ' to learn more about interactive tables.';\n",
              "        element.innerHTML = '';\n",
              "        dataTable['output_type'] = 'display_data';\n",
              "        await google.colab.output.renderOutput(dataTable, element);\n",
              "        const docLink = document.createElement('div');\n",
              "        docLink.innerHTML = docLinkHtml;\n",
              "        element.appendChild(docLink);\n",
              "      }\n",
              "    </script>\n",
              "  </div>\n",
              "\n",
              "\n",
              "<div id=\"df-0b9deca1-5762-455a-8e29-9b9714ae4298\">\n",
              "  <button class=\"colab-df-quickchart\" onclick=\"quickchart('df-0b9deca1-5762-455a-8e29-9b9714ae4298')\"\n",
              "            title=\"Suggest charts\"\n",
              "            style=\"display:none;\">\n",
              "\n",
              "<svg xmlns=\"http://www.w3.org/2000/svg\" height=\"24px\"viewBox=\"0 0 24 24\"\n",
              "     width=\"24px\">\n",
              "    <g>\n",
              "        <path d=\"M19 3H5c-1.1 0-2 .9-2 2v14c0 1.1.9 2 2 2h14c1.1 0 2-.9 2-2V5c0-1.1-.9-2-2-2zM9 17H7v-7h2v7zm4 0h-2V7h2v10zm4 0h-2v-4h2v4z\"/>\n",
              "    </g>\n",
              "</svg>\n",
              "  </button>\n",
              "\n",
              "<style>\n",
              "  .colab-df-quickchart {\n",
              "      --bg-color: #E8F0FE;\n",
              "      --fill-color: #1967D2;\n",
              "      --hover-bg-color: #E2EBFA;\n",
              "      --hover-fill-color: #174EA6;\n",
              "      --disabled-fill-color: #AAA;\n",
              "      --disabled-bg-color: #DDD;\n",
              "  }\n",
              "\n",
              "  [theme=dark] .colab-df-quickchart {\n",
              "      --bg-color: #3B4455;\n",
              "      --fill-color: #D2E3FC;\n",
              "      --hover-bg-color: #434B5C;\n",
              "      --hover-fill-color: #FFFFFF;\n",
              "      --disabled-bg-color: #3B4455;\n",
              "      --disabled-fill-color: #666;\n",
              "  }\n",
              "\n",
              "  .colab-df-quickchart {\n",
              "    background-color: var(--bg-color);\n",
              "    border: none;\n",
              "    border-radius: 50%;\n",
              "    cursor: pointer;\n",
              "    display: none;\n",
              "    fill: var(--fill-color);\n",
              "    height: 32px;\n",
              "    padding: 0;\n",
              "    width: 32px;\n",
              "  }\n",
              "\n",
              "  .colab-df-quickchart:hover {\n",
              "    background-color: var(--hover-bg-color);\n",
              "    box-shadow: 0 1px 2px rgba(60, 64, 67, 0.3), 0 1px 3px 1px rgba(60, 64, 67, 0.15);\n",
              "    fill: var(--button-hover-fill-color);\n",
              "  }\n",
              "\n",
              "  .colab-df-quickchart-complete:disabled,\n",
              "  .colab-df-quickchart-complete:disabled:hover {\n",
              "    background-color: var(--disabled-bg-color);\n",
              "    fill: var(--disabled-fill-color);\n",
              "    box-shadow: none;\n",
              "  }\n",
              "\n",
              "  .colab-df-spinner {\n",
              "    border: 2px solid var(--fill-color);\n",
              "    border-color: transparent;\n",
              "    border-bottom-color: var(--fill-color);\n",
              "    animation:\n",
              "      spin 1s steps(1) infinite;\n",
              "  }\n",
              "\n",
              "  @keyframes spin {\n",
              "    0% {\n",
              "      border-color: transparent;\n",
              "      border-bottom-color: var(--fill-color);\n",
              "      border-left-color: var(--fill-color);\n",
              "    }\n",
              "    20% {\n",
              "      border-color: transparent;\n",
              "      border-left-color: var(--fill-color);\n",
              "      border-top-color: var(--fill-color);\n",
              "    }\n",
              "    30% {\n",
              "      border-color: transparent;\n",
              "      border-left-color: var(--fill-color);\n",
              "      border-top-color: var(--fill-color);\n",
              "      border-right-color: var(--fill-color);\n",
              "    }\n",
              "    40% {\n",
              "      border-color: transparent;\n",
              "      border-right-color: var(--fill-color);\n",
              "      border-top-color: var(--fill-color);\n",
              "    }\n",
              "    60% {\n",
              "      border-color: transparent;\n",
              "      border-right-color: var(--fill-color);\n",
              "    }\n",
              "    80% {\n",
              "      border-color: transparent;\n",
              "      border-right-color: var(--fill-color);\n",
              "      border-bottom-color: var(--fill-color);\n",
              "    }\n",
              "    90% {\n",
              "      border-color: transparent;\n",
              "      border-bottom-color: var(--fill-color);\n",
              "    }\n",
              "  }\n",
              "</style>\n",
              "\n",
              "  <script>\n",
              "    async function quickchart(key) {\n",
              "      const quickchartButtonEl =\n",
              "        document.querySelector('#' + key + ' button');\n",
              "      quickchartButtonEl.disabled = true;  // To prevent multiple clicks.\n",
              "      quickchartButtonEl.classList.add('colab-df-spinner');\n",
              "      try {\n",
              "        const charts = await google.colab.kernel.invokeFunction(\n",
              "            'suggestCharts', [key], {});\n",
              "      } catch (error) {\n",
              "        console.error('Error during call to suggestCharts:', error);\n",
              "      }\n",
              "      quickchartButtonEl.classList.remove('colab-df-spinner');\n",
              "      quickchartButtonEl.classList.add('colab-df-quickchart-complete');\n",
              "    }\n",
              "    (() => {\n",
              "      let quickchartButtonEl =\n",
              "        document.querySelector('#df-0b9deca1-5762-455a-8e29-9b9714ae4298 button');\n",
              "      quickchartButtonEl.style.display =\n",
              "        google.colab.kernel.accessAllowed ? 'block' : 'none';\n",
              "    })();\n",
              "  </script>\n",
              "</div>\n",
              "\n",
              "  <div id=\"id_db0b3d7a-e4d1-4808-91dc-35bb0c24b26e\">\n",
              "    <style>\n",
              "      .colab-df-generate {\n",
              "        background-color: #E8F0FE;\n",
              "        border: none;\n",
              "        border-radius: 50%;\n",
              "        cursor: pointer;\n",
              "        display: none;\n",
              "        fill: #1967D2;\n",
              "        height: 32px;\n",
              "        padding: 0 0 0 0;\n",
              "        width: 32px;\n",
              "      }\n",
              "\n",
              "      .colab-df-generate:hover {\n",
              "        background-color: #E2EBFA;\n",
              "        box-shadow: 0px 1px 2px rgba(60, 64, 67, 0.3), 0px 1px 3px 1px rgba(60, 64, 67, 0.15);\n",
              "        fill: #174EA6;\n",
              "      }\n",
              "\n",
              "      [theme=dark] .colab-df-generate {\n",
              "        background-color: #3B4455;\n",
              "        fill: #D2E3FC;\n",
              "      }\n",
              "\n",
              "      [theme=dark] .colab-df-generate:hover {\n",
              "        background-color: #434B5C;\n",
              "        box-shadow: 0px 1px 3px 1px rgba(0, 0, 0, 0.15);\n",
              "        filter: drop-shadow(0px 1px 2px rgba(0, 0, 0, 0.3));\n",
              "        fill: #FFFFFF;\n",
              "      }\n",
              "    </style>\n",
              "    <button class=\"colab-df-generate\" onclick=\"generateWithVariable('textos')\"\n",
              "            title=\"Generate code using this dataframe.\"\n",
              "            style=\"display:none;\">\n",
              "\n",
              "  <svg xmlns=\"http://www.w3.org/2000/svg\" height=\"24px\"viewBox=\"0 0 24 24\"\n",
              "       width=\"24px\">\n",
              "    <path d=\"M7,19H8.4L18.45,9,17,7.55,7,17.6ZM5,21V16.75L18.45,3.32a2,2,0,0,1,2.83,0l1.4,1.43a1.91,1.91,0,0,1,.58,1.4,1.91,1.91,0,0,1-.58,1.4L9.25,21ZM18.45,9,17,7.55Zm-12,3A5.31,5.31,0,0,0,4.9,8.1,5.31,5.31,0,0,0,1,6.5,5.31,5.31,0,0,0,4.9,4.9,5.31,5.31,0,0,0,6.5,1,5.31,5.31,0,0,0,8.1,4.9,5.31,5.31,0,0,0,12,6.5,5.46,5.46,0,0,0,6.5,12Z\"/>\n",
              "  </svg>\n",
              "    </button>\n",
              "    <script>\n",
              "      (() => {\n",
              "      const buttonEl =\n",
              "        document.querySelector('#id_db0b3d7a-e4d1-4808-91dc-35bb0c24b26e button.colab-df-generate');\n",
              "      buttonEl.style.display =\n",
              "        google.colab.kernel.accessAllowed ? 'block' : 'none';\n",
              "\n",
              "      buttonEl.onclick = () => {\n",
              "        google.colab.notebook.generateWithVariable('textos');\n",
              "      }\n",
              "      })();\n",
              "    </script>\n",
              "  </div>\n",
              "\n",
              "    </div>\n",
              "  </div>\n"
            ],
            "application/vnd.google.colaboratory.intrinsic+json": {
              "type": "dataframe",
              "variable_name": "textos",
              "summary": "{\n  \"name\": \"textos\",\n  \"rows\": 4049,\n  \"fields\": [\n    {\n      \"column\": \"Textos_espanol\",\n      \"properties\": {\n        \"dtype\": \"string\",\n        \"num_unique_values\": 4049,\n        \"samples\": [\n          \"Los directores de escuela reclutados bajo el nuevo proceso de contrataci\\u00f3n pueden nombrar y despedir a los miembros de su equipo de liderazgo escolar y proponer el despido de hasta el 5% de los docentes de su escuela que hayan sido mal evaluados en el sistema nacional de evaluaci\\u00f3n de docentes. Al mismo tiempo, este nuevo marco ha establecido un mayor grado de responsabilidad para los directores de escuela. Seg\\u00fan el nuevo proceso de contrataci\\u00f3n, todos los directores de escuela son nombrados por un per\\u00edodo de cinco a\\u00f1os, despu\\u00e9s de lo cual deben volver a presentar una solicitud. Esto brinda la oportunidad de reevaluar peri\\u00f3dicamente, reconocer y reconocer a los directores que se desempe\\u00f1an bien y proporcionar incentivos para el desarrollo y la mejora continuos.\",\n          \"En su segunda fase integr\\u00f3 una historia cl\\u00ednica personal (con diagn\\u00f3sticos y tratamientos), con el sistema nacional de citas, para la atenci\\u00f3n electiva programada. Es importante destacar que la EDUS tambi\\u00e9n contiene un registro \\\"familiar\\\" de cada persona, en el que se registran sistem\\u00e1ticamente los factores determinantes de la salud y el bienestar, como otros miembros de la familia con enfermedades complejas y cualquier dificultad econ\\u00f3mica o de vivienda. Esto permite una evaluaci\\u00f3n m\\u00e1s completa de las necesidades individuales, as\\u00ed como elaborar perfiles sanitarios de la poblaci\\u00f3n local y predecir sus necesidades. En el futuro, la EDUS se vincular\\u00e1 a las im\\u00e1genes digitales, los registros de laboratorio, los registros de farmacia y las notas cl\\u00ednicas de los pacientes hospitalizados (tanto de enfermer\\u00eda como m\\u00e9dicas).\",\n          \"Como prioridad, se deben tomar medidas para garantizar que la capacidad de pago no sea un factor para acceder a la atenci\\u00f3n m\\u00e9dica. En particular, se deben investigar las razones que subyacen a la baja aceptaci\\u00f3n de las pruebas de detecci\\u00f3n del c\\u00e1ncer de mama y de cuello uterino. Comprender la variaci\\u00f3n a nivel de proveedor ser\\u00e1 fundamental para abordar las bajas tasas de supervivencia de Letonia despu\\u00e9s de un ataque al coraz\\u00f3n o un accidente cerebrovascular, por ejemplo.\"\n        ],\n        \"semantic_type\": \"\",\n        \"description\": \"\"\n      }\n    },\n    {\n      \"column\": \"sdg\",\n      \"properties\": {\n        \"dtype\": \"number\",\n        \"std\": 0,\n        \"min\": 3,\n        \"max\": 5,\n        \"num_unique_values\": 3,\n        \"samples\": [\n          3,\n          4,\n          5\n        ],\n        \"semantic_type\": \"\",\n        \"description\": \"\"\n      }\n    },\n    {\n      \"column\": \"Conteo\",\n      \"properties\": {\n        \"dtype\": \"number\",\n        \"std\": 228,\n        \"min\": 294,\n        \"max\": 1513,\n        \"num_unique_values\": 933,\n        \"samples\": [\n          1130,\n          713,\n          795\n        ],\n        \"semantic_type\": \"\",\n        \"description\": \"\"\n      }\n    },\n    {\n      \"column\": \"Max\",\n      \"properties\": {\n        \"dtype\": \"number\",\n        \"std\": 3,\n        \"min\": 9,\n        \"max\": 83,\n        \"num_unique_values\": 43,\n        \"samples\": [\n          83,\n          30,\n          33\n        ],\n        \"semantic_type\": \"\",\n        \"description\": \"\"\n      }\n    },\n    {\n      \"column\": \"Min\",\n      \"properties\": {\n        \"dtype\": \"number\",\n        \"std\": 0,\n        \"min\": 0,\n        \"max\": 2,\n        \"num_unique_values\": 3,\n        \"samples\": [\n          1,\n          0,\n          2\n        ],\n        \"semantic_type\": \"\",\n        \"description\": \"\"\n      }\n    }\n  ]\n}"
            }
          },
          "metadata": {},
          "execution_count": 134
        }
      ]
    },
    {
      "cell_type": "markdown",
      "source": [
        "## 1. Fase 1, Preparación de Datos"
      ],
      "metadata": {
        "id": "i6B_lmmKEq0R"
      }
    },
    {
      "cell_type": "markdown",
      "source": [
        "### 1.1. Análisis de calidad"
      ],
      "metadata": {
        "id": "s-g5NPt_A65r"
      }
    },
    {
      "cell_type": "markdown",
      "source": [
        "Se realizan revisiones para entender el nivel de completitud, unicidad y validez de los datos suministrados por el UNFPA. Tras la revisión no se encuentran problemas que deban ser intervenidos en esta primera revisión."
      ],
      "metadata": {
        "id": "gJsz8A34E20i"
      }
    },
    {
      "cell_type": "markdown",
      "source": [
        "#### 1.1.1. Completitud"
      ],
      "metadata": {
        "id": "KrLY79PI_3rb"
      }
    },
    {
      "cell_type": "markdown",
      "source": [
        "Se realiza un conteo de los valores nulos de las columnas que contienen los datos y se calcula su porcentaje. Con los resultados se evidencia completitud en la información suministrada por el UNFPA por lo que no son requeridas mayores acciones."
      ],
      "metadata": {
        "id": "Izsab8duAF9g"
      }
    },
    {
      "cell_type": "code",
      "source": [
        "# Recuento de valores nulos por columna\n",
        "null_counts = df_unfpa.isnull().sum()\n",
        "\n",
        "# Porcentaje de valores nulos por columna\n",
        "null_percentage = df_unfpa.isnull().mean() * 100\n",
        "\n",
        "null_counts\n",
        "null_percentage"
      ],
      "metadata": {
        "colab": {
          "base_uri": "https://localhost:8080/",
          "height": 0
        },
        "id": "6e_9l0GH_2bB",
        "outputId": "3fbb03c1-5eaa-4f0b-f243-b3d80b34d416"
      },
      "execution_count": 135,
      "outputs": [
        {
          "output_type": "execute_result",
          "data": {
            "text/plain": [
              "Textos_espanol    0.0\n",
              "sdg               0.0\n",
              "dtype: float64"
            ],
            "text/html": [
              "<div>\n",
              "<style scoped>\n",
              "    .dataframe tbody tr th:only-of-type {\n",
              "        vertical-align: middle;\n",
              "    }\n",
              "\n",
              "    .dataframe tbody tr th {\n",
              "        vertical-align: top;\n",
              "    }\n",
              "\n",
              "    .dataframe thead th {\n",
              "        text-align: right;\n",
              "    }\n",
              "</style>\n",
              "<table border=\"1\" class=\"dataframe\">\n",
              "  <thead>\n",
              "    <tr style=\"text-align: right;\">\n",
              "      <th></th>\n",
              "      <th>0</th>\n",
              "    </tr>\n",
              "  </thead>\n",
              "  <tbody>\n",
              "    <tr>\n",
              "      <th>Textos_espanol</th>\n",
              "      <td>0.0</td>\n",
              "    </tr>\n",
              "    <tr>\n",
              "      <th>sdg</th>\n",
              "      <td>0.0</td>\n",
              "    </tr>\n",
              "  </tbody>\n",
              "</table>\n",
              "</div><br><label><b>dtype:</b> float64</label>"
            ]
          },
          "metadata": {},
          "execution_count": 135
        }
      ]
    },
    {
      "cell_type": "markdown",
      "source": [
        "#### 1.1.2. Unicidad"
      ],
      "metadata": {
        "id": "YERuetGkAfij"
      }
    },
    {
      "cell_type": "markdown",
      "source": [
        "Se lleva a cabo el conteo de registros duplicados en el dataframe. No se encuentran elementos duplicados."
      ],
      "metadata": {
        "id": "W3iaKlJ0Aq2K"
      }
    },
    {
      "cell_type": "code",
      "source": [
        "# Verificar registros duplicados\n",
        "duplicate_rows = df_unfpa[df_unfpa.duplicated()]\n",
        "\n",
        "# Recuento de registros duplicados\n",
        "duplicate_count = duplicate_rows.shape[0]\n",
        "\n",
        "print(f\"Número de registros duplicados: {duplicate_count}\")\n"
      ],
      "metadata": {
        "colab": {
          "base_uri": "https://localhost:8080/"
        },
        "id": "XmXUtn4pAETo",
        "outputId": "0bae2d59-be78-4b91-a7f0-d0507f6e6ba7"
      },
      "execution_count": 136,
      "outputs": [
        {
          "output_type": "stream",
          "name": "stdout",
          "text": [
            "Número de registros duplicados: 0\n"
          ]
        }
      ]
    },
    {
      "cell_type": "markdown",
      "source": [
        "#### 1.1.3. Validez"
      ],
      "metadata": {
        "id": "UWeDX9ZVBBGL"
      }
    },
    {
      "cell_type": "markdown",
      "source": [
        "Para analizar la validez de los datos se comprueba que en la columna numérica \"sdg\", los registros estén dentro del límite. No se encuentran registros inválidos."
      ],
      "metadata": {
        "id": "EXYn-KQLBjb9"
      }
    },
    {
      "cell_type": "code",
      "source": [
        "# Ejemplo de chequeo de validez en una columna numérica\n",
        "valid_range = (df_unfpa['sdg'] >= 3) & (df_unfpa['sdg'] <= 5)\n",
        "invalid_values = df_unfpa[~valid_range]\n",
        "\n",
        "print(f\"Número de valores no válidos en 'columna_numerica': {invalid_values.shape[0]}\")\n"
      ],
      "metadata": {
        "colab": {
          "base_uri": "https://localhost:8080/"
        },
        "id": "ZxwQSN8zAo2P",
        "outputId": "764ce6ca-032b-4a82-e00d-eb706af6bdcd"
      },
      "execution_count": 137,
      "outputs": [
        {
          "output_type": "stream",
          "name": "stdout",
          "text": [
            "Número de valores no válidos en 'columna_numerica': 0\n"
          ]
        }
      ]
    },
    {
      "cell_type": "markdown",
      "source": [
        "### 1.2. Procesamiento de Lenguaje Natural (PLN)"
      ],
      "metadata": {
        "id": "5s4rdvWFFSKa"
      }
    },
    {
      "cell_type": "markdown",
      "source": [
        "Se realiza el preprocesamiento necesario para convertir los textos en un formato de tokens procesable por el modelo. Se realizan las siguientes acciones:\n",
        "\n",
        "**Limpieza del Texto:** Eliminación de caracteres especiales, puntuación y números\n",
        "\n",
        "**Normalización:** Conversión a minúsculas y eliminación de stopwords (palabras comunes que no aportan significado)\n",
        "\n",
        "**Tokenización:** División del texto en palabras individuales o \"tokens\"\n",
        "\n",
        "**Lematización:** Reducción de las palabras a su forma base\n",
        "\n",
        "**Manejo Unicode:** Decisiones sobre problemas/conflictos debido a la codificación de los acentos y caracteres especiales en la codificación."
      ],
      "metadata": {
        "id": "so40kDYJKJnK"
      }
    },
    {
      "cell_type": "code",
      "source": [
        "df_unfpa = pd.read_excel('./ODScat_345.xlsx',sheet_name='Datos')\n",
        "\n",
        "stop_words = set(stopwords.words('spanish'))\n",
        "lemmatizer = WordNetLemmatizer()\n",
        "\n",
        "def remove_accents(input_str):\n",
        "    nfkd_form = unicodedata.normalize('NFKD', input_str)\n",
        "    return u\"\".join([c for c in nfkd_form if not unicodedata.combining(c)])\n",
        "\n",
        "def preprocess_text(text):\n",
        "\n",
        "    text = text.lower()\n",
        "\n",
        "    text = remove_accents(text)\n",
        "    text = re.sub(r'[^\\x00-\\x7f]',r' ',text)   #remove non-ascii\n",
        "\n",
        "\n",
        "\n",
        "    text = re.sub(r'\\W', ' ', text)\n",
        "    text = re.sub(r'\\d', '', text)\n",
        "\n",
        "    words = word_tokenize(text)\n",
        "\n",
        "    words = [lemmatizer.lemmatize(word) for word in words if word not in stop_words]\n",
        "\n",
        "    return ' '.join(words)\n",
        "\n",
        "df_unfpa['Textos_preprocesados'] = df_unfpa['Textos_espanol'].apply(preprocess_text)\n",
        "print(df_unfpa[['Textos_espanol', 'Textos_preprocesados']].head())"
      ],
      "metadata": {
        "colab": {
          "base_uri": "https://localhost:8080/"
        },
        "id": "zGnPF0OsFUWh",
        "outputId": "1882ece5-2a87-45d8-b401-a19e95c8a20a"
      },
      "execution_count": 138,
      "outputs": [
        {
          "output_type": "stream",
          "name": "stdout",
          "text": [
            "                                      Textos_espanol  \\\n",
            "0  Por ejemplo, el nÃºmero de consultas externas ...   \n",
            "1  En 2007, el gobierno central financió directam...   \n",
            "2  Claramente, hay muchos otros factores en juego...   \n",
            "3  Por ejemplo, el estado australiano de Victoria...   \n",
            "4  El consumo anual de alcohol se estima en 15,7 ...   \n",
            "\n",
            "                                Textos_preprocesados  \n",
            "0  ejemplo naomero consultas externas especialist...  \n",
            "1  gobierno central financio directamente solo ga...  \n",
            "2  claramente factores juego particular variedad ...  \n",
            "3  ejemplo australiano victoria creo agencia prom...  \n",
            "4  consumo anual alcohol estima litros ano hombre...  \n"
          ]
        }
      ]
    },
    {
      "cell_type": "markdown",
      "source": [
        "Para que el modelo pueda trabajar con el texto, se convierten las palabras en vectores numéricos. Se implmeneta la técnica TF-IDF (Term Frequency-Inverse Document Frequency).\n",
        "Este algoritmo \"está diseñado para resaltar palabras que son frecuentes dentro de un documento específico y relativamente raras en todo el cuerpo, lo que ayuda a identificar términos que son importantes para un documento en particular\"([IBM, ¿Qué son las incrustaciones de palabras?](https://www.ibm.com/mx-es/topics/word-embeddings)).\n",
        "Se limita la cantidad de características más comunes a 5000 con base en el tamaño de los registros buscando que el límite esté por encima de la cantidad de registros en escala de miles."
      ],
      "metadata": {
        "id": "i9UOjVcgONN6"
      }
    },
    {
      "cell_type": "code",
      "source": [
        "vectorizer = TfidfVectorizer(max_features=5000)  # Limitar a 5000 características más comunes\n",
        "X = vectorizer.fit_transform(df_unfpa['Textos_preprocesados'])\n",
        "\n",
        "X.shape"
      ],
      "metadata": {
        "colab": {
          "base_uri": "https://localhost:8080/"
        },
        "id": "6_vvbxo4L187",
        "outputId": "18e77ff8-0271-4570-d718-17e68d20535d"
      },
      "execution_count": 139,
      "outputs": [
        {
          "output_type": "execute_result",
          "data": {
            "text/plain": [
              "(4049, 5000)"
            ]
          },
          "metadata": {},
          "execution_count": 139
        }
      ]
    },
    {
      "cell_type": "markdown",
      "source": [
        "Una vez aplicada la estrategia TF-IDF, se genera una gráfica para visualizar las palabras más frecuentes en el conjunto de datos."
      ],
      "metadata": {
        "id": "sxHo20u5envH"
      }
    },
    {
      "cell_type": "code",
      "source": [
        "# Unir todos los textos para análisis\n",
        "all_words = ' '.join(df_unfpa['Textos_preprocesados']).split()\n",
        "\n",
        "# Contar las palabras más comunes\n",
        "word_freq = Counter(all_words)\n",
        "most_common_words = word_freq.most_common(20)\n",
        "\n",
        "# Visualización\n",
        "words, counts = zip(*most_common_words)\n",
        "plt.figure(figsize=(10, 5))\n",
        "plt.bar(words, counts)\n",
        "plt.title('Palabras más comunes en el dataset')\n",
        "plt.xticks(rotation=45)\n",
        "plt.show()"
      ],
      "metadata": {
        "colab": {
          "base_uri": "https://localhost:8080/",
          "height": 521
        },
        "id": "zvOmwYtJXjGO",
        "outputId": "b490eb7e-5728-42ab-f211-403633f154a5"
      },
      "execution_count": 140,
      "outputs": [
        {
          "output_type": "display_data",
          "data": {
            "text/plain": [
              "<Figure size 1000x500 with 1 Axes>"
            ],
            "image/png": "[encoded data removed]"
          },
          "metadata": {}
        }
      ]
    },
    {
      "cell_type": "markdown",
      "source": [
        "Una vez realizadas las modificaciones necesarias en los datos, se establecen los conjuntos de entrenamiento y de prueba."
      ],
      "metadata": {
        "id": "I7YyAkoxe36p"
      }
    },
    {
      "cell_type": "code",
      "source": [
        "# Definir las características (X) y las etiquetas (y)\n",
        "X = vectorizer.transform(df_unfpa['Textos_preprocesados'])\n",
        "y = df_unfpa['sdg']\n",
        "\n",
        "df_unfpa.to_excel('./ODScat_345_preprocesado.xlsx', index=False)\n",
        "files.download('./ODScat_345_preprocesado.xlsx')\n",
        "\n",
        "# Dividir en conjuntos de entrenamiento y prueba\n",
        "X_train, X_test, y_train, y_test = train_test_split(X, y, test_size=0.2, random_state=42)\n",
        "\n",
        "print(f'Tamaño del conjunto de entrenamiento: {X_train.shape}')\n",
        "print(f'Tamaño del conjunto de prueba: {X_test.shape}')"
      ],
      "metadata": {
        "colab": {
          "base_uri": "https://localhost:8080/",
          "height": 53
        },
        "id": "mULCRlUJX5uQ",
        "outputId": "46d48297-51bb-4f8c-c619-435272f22ffa"
      },
      "execution_count": 154,
      "outputs": [
        {
          "output_type": "display_data",
          "data": {
            "text/plain": [
              "<IPython.core.display.Javascript object>"
            ],
            "application/javascript": [
              "\n",
              "    async function download(id, filename, size) {\n",
              "      if (!google.colab.kernel.accessAllowed) {\n",
              "        return;\n",
              "      }\n",
              "      const div = document.createElement('div');\n",
              "      const label = document.createElement('label');\n",
              "      label.textContent = `Downloading \"${filename}\": `;\n",
              "      div.appendChild(label);\n",
              "      const progress = document.createElement('progress');\n",
              "      progress.max = size;\n",
              "      div.appendChild(progress);\n",
              "      document.body.appendChild(div);\n",
              "\n",
              "      const buffers = [];\n",
              "      let downloaded = 0;\n",
              "\n",
              "      const channel = await google.colab.kernel.comms.open(id);\n",
              "      // Send a message to notify the kernel that we're ready.\n",
              "      channel.send({})\n",
              "\n",
              "      for await (const message of channel.messages) {\n",
              "        // Send a message to notify the kernel that we're ready.\n",
              "        channel.send({})\n",
              "        if (message.buffers) {\n",
              "          for (const buffer of message.buffers) {\n",
              "            buffers.push(buffer);\n",
              "            downloaded += buffer.byteLength;\n",
              "            progress.value = downloaded;\n",
              "          }\n",
              "        }\n",
              "      }\n",
              "      const blob = new Blob(buffers, {type: 'application/binary'});\n",
              "      const a = document.createElement('a');\n",
              "      a.href = window.URL.createObjectURL(blob);\n",
              "      a.download = filename;\n",
              "      div.appendChild(a);\n",
              "      a.click();\n",
              "      div.remove();\n",
              "    }\n",
              "  "
            ]
          },
          "metadata": {}
        },
        {
          "output_type": "display_data",
          "data": {
            "text/plain": [
              "<IPython.core.display.Javascript object>"
            ],
            "application/javascript": [
              "download(\"download_139f0410-da9d-4d70-8464-157881cc5323\", \"ODScat_345_preprocesado.xlsx\", 1546179)"
            ]
          },
          "metadata": {}
        },
        {
          "output_type": "stream",
          "name": "stdout",
          "text": [
            "Tamaño del conjunto de entrenamiento: (3239, 5000)\n",
            "Tamaño del conjunto de prueba: (810, 5000)\n"
          ]
        }
      ]
    },
    {
      "cell_type": "markdown",
      "source": [
        "## 2. Fase 2, Modelo"
      ],
      "metadata": {
        "id": "e1RGhHuDcwls"
      }
    },
    {
      "cell_type": "markdown",
      "source": [
        "Se realiza la creación, entrenamiento, comprobación y cálculo de estadísticos para los modelos Naive Bayes, SVM y Random Forest. Posteriormente, con base en los estadísticos, se generan las métricas a partir de una comparativa entre el comportamiento de cada modelo para tomar decisiones acerca de la mejor elección para el UNFPA."
      ],
      "metadata": {
        "id": "JMvM6Mp2EdVC"
      }
    },
    {
      "cell_type": "markdown",
      "source": [
        "### 2.1. Naive Bayes"
      ],
      "metadata": {
        "id": "eZTTQ2Xr9URP"
      }
    },
    {
      "cell_type": "markdown",
      "source": [
        "EL primer algoritmo que se implementará para el modelo es Naive Bayes. Este algoritmo de aprendizaje automático supervisado se utiliza para tareas de clasificación, como la clasificación de texto. Utiliza principios de probabilidad para realizar tareas de clasificación. ([IBM, ¿Qué son los clasificadores Naïve Bayes?](https://www.ibm.com/mx-es/topics/naive-bayes#:~:text=El%20clasificador%20Na%C3%AFve%20Bayes%20es,para%20realizar%20tareas%20de%20clasificaci%C3%B3n.))"
      ],
      "metadata": {
        "id": "d0hWG-cJnwnW"
      }
    },
    {
      "cell_type": "code",
      "source": [
        "# Crear el modelo\n",
        "nb_model = MultinomialNB()\n",
        "\n",
        "# Entrenar el modelo\n",
        "nb_model.fit(X_train, y_train)\n",
        "\n",
        "# Hacer predicciones\n",
        "y_pred_nb = nb_model.predict(X_test)\n",
        "\n",
        "# Evaluar el modelo\n",
        "accuracy_nb = accuracy_score(y_test, y_pred_nb)\n",
        "report_nb = classification_report(y_test, y_pred_nb)\n",
        "\n",
        "print(f\"Naive Bayes - Accuracy: {accuracy_nb}\")\n",
        "print(f\"Classification Report:\\n{report_nb}\")"
      ],
      "metadata": {
        "colab": {
          "base_uri": "https://localhost:8080/"
        },
        "id": "e_dYEAO2c2Kw",
        "outputId": "9963746c-73ba-4080-8232-34174618c9d3"
      },
      "execution_count": 142,
      "outputs": [
        {
          "output_type": "stream",
          "name": "stdout",
          "text": [
            "Naive Bayes - Accuracy: 0.9728395061728395\n",
            "Classification Report:\n",
            "              precision    recall  f1-score   support\n",
            "\n",
            "           3       1.00      0.97      0.98       250\n",
            "           4       0.96      0.98      0.97       268\n",
            "           5       0.96      0.97      0.97       292\n",
            "\n",
            "    accuracy                           0.97       810\n",
            "   macro avg       0.97      0.97      0.97       810\n",
            "weighted avg       0.97      0.97      0.97       810\n",
            "\n"
          ]
        }
      ]
    },
    {
      "cell_type": "code",
      "source": [
        "y_pred = nb_model.predict(X_test)\n",
        "\n",
        "nb_accuracy = accuracy_score(y_test, y_pred)\n",
        "nb_precision = precision_score(y_test, y_pred, average='weighted')\n",
        "nb_recall = recall_score(y_test, y_pred, average='weighted')\n",
        "nb_f1 = f1_score(y_test, y_pred, average='weighted')\n",
        "\n",
        "nb_conf_matrix = confusion_matrix(y_test, y_pred)\n",
        "\n",
        "nb_class_report = classification_report(y_test, y_pred)\n",
        "\n",
        "print(f\"Accuracy: {nb_accuracy}\")\n",
        "print(f\"Precision: {nb_precision}\")\n",
        "print(f\"Recall: {nb_recall}\")\n",
        "print(f\"F1 Score: {nb_f1}\")\n",
        "print(f\"Confusion Matrix:\\n{nb_conf_matrix}\")\n",
        "print(f\"Classification Report:\\n{nb_class_report}\")\n"
      ],
      "metadata": {
        "colab": {
          "base_uri": "https://localhost:8080/"
        },
        "id": "LWTNJ_1p8L_1",
        "outputId": "6b2cdaaa-df7b-4530-cc85-de214a2e45cb"
      },
      "execution_count": 143,
      "outputs": [
        {
          "output_type": "stream",
          "name": "stdout",
          "text": [
            "Accuracy: 0.9728395061728395\n",
            "Precision: 0.973229266474545\n",
            "Recall: 0.9728395061728395\n",
            "F1 Score: 0.9729106789235\n",
            "Confusion Matrix:\n",
            "[[242   2   6]\n",
            " [  0 263   5]\n",
            " [  0   9 283]]\n",
            "Classification Report:\n",
            "              precision    recall  f1-score   support\n",
            "\n",
            "           3       1.00      0.97      0.98       250\n",
            "           4       0.96      0.98      0.97       268\n",
            "           5       0.96      0.97      0.97       292\n",
            "\n",
            "    accuracy                           0.97       810\n",
            "   macro avg       0.97      0.97      0.97       810\n",
            "weighted avg       0.97      0.97      0.97       810\n",
            "\n"
          ]
        }
      ]
    },
    {
      "cell_type": "markdown",
      "source": [
        "### 2.2. SVM"
      ],
      "metadata": {
        "id": "Byp4kQX-9XvA"
      }
    },
    {
      "cell_type": "markdown",
      "source": [
        "El segundo algoritmo que se implementa para el modelo es SVM (Support Vector Machine).\n",
        "\"SVM funciona correlacionando datos a un espacio de características de grandes dimensiones de forma que los puntos de datos se puedan categorizar, incluso si los datos no se puedan separar linealmente de otro modo. Se detecta un separador entre las categorías y los datos se transforman de forma que el separador se puede extraer como un hiperplano. Tras ello, las características de los nuevos datos se pueden utilizar para predecir el grupo al que pertenece el nuevo registro.\" ([IBM, Funcionamiento de SVM, 2024](https://www.ibm.com/docs/es/spss-modeler/saas?topic=models-how-svm-works))"
      ],
      "metadata": {
        "id": "nvKQNsGKvVCm"
      }
    },
    {
      "cell_type": "code",
      "source": [
        "# Crear el modelo\n",
        "svm_model = SVC(kernel='linear')\n",
        "\n",
        "# Entrenar el modelo\n",
        "svm_model.fit(X_train, y_train)\n",
        "\n",
        "# Hacer predicciones\n",
        "y_pred_svm = svm_model.predict(X_test)\n",
        "\n",
        "# Evaluar el modelo\n",
        "accuracy_svm = accuracy_score(y_test, y_pred_svm)\n",
        "report_svm = classification_report(y_test, y_pred_svm)\n",
        "\n",
        "print(f\"SVM - Accuracy: {accuracy_svm}\")\n",
        "print(f\"Classification Report:\\n{report_svm}\")"
      ],
      "metadata": {
        "colab": {
          "base_uri": "https://localhost:8080/"
        },
        "id": "gjo4CemVvQXu",
        "outputId": "40d9f051-5d75-4946-cc52-26546500a9de"
      },
      "execution_count": 144,
      "outputs": [
        {
          "output_type": "stream",
          "name": "stdout",
          "text": [
            "SVM - Accuracy: 0.9827160493827161\n",
            "Classification Report:\n",
            "              precision    recall  f1-score   support\n",
            "\n",
            "           3       0.98      0.99      0.99       250\n",
            "           4       0.97      0.98      0.98       268\n",
            "           5       0.99      0.98      0.98       292\n",
            "\n",
            "    accuracy                           0.98       810\n",
            "   macro avg       0.98      0.98      0.98       810\n",
            "weighted avg       0.98      0.98      0.98       810\n",
            "\n"
          ]
        }
      ]
    },
    {
      "cell_type": "code",
      "source": [
        "y_pred = svm_model.predict(X_test)\n",
        "\n",
        "svm_accuracy = accuracy_score(y_test, y_pred)\n",
        "svm_precision = precision_score(y_test, y_pred, average='weighted')\n",
        "svm_recall = recall_score(y_test, y_pred, average='weighted')\n",
        "svm_f1 = f1_score(y_test, y_pred, average='weighted')\n",
        "\n",
        "svm_conf_matrix = confusion_matrix(y_test, y_pred)\n",
        "\n",
        "svm_class_report = classification_report(y_test, y_pred)\n",
        "\n",
        "print(f\"Accuracy: {svm_accuracy}\")\n",
        "print(f\"Precision: {svm_precision}\")\n",
        "print(f\"Recall: {svm_recall}\")\n",
        "print(f\"F1 Score: {svm_f1}\")\n",
        "print(f\"Confusion Matrix:\\n{svm_conf_matrix}\")\n",
        "print(f\"Classification Report:\\n{svm_class_report}\")"
      ],
      "metadata": {
        "colab": {
          "base_uri": "https://localhost:8080/"
        },
        "id": "wRHUqeOQ90OA",
        "outputId": "729bf404-1e1e-49f0-c099-10f8b17f08bd"
      },
      "execution_count": 145,
      "outputs": [
        {
          "output_type": "stream",
          "name": "stdout",
          "text": [
            "Accuracy: 0.9827160493827161\n",
            "Precision: 0.9827678163171991\n",
            "Recall: 0.9827160493827161\n",
            "F1 Score: 0.982715770697936\n",
            "Confusion Matrix:\n",
            "[[248   2   0]\n",
            " [  2 263   3]\n",
            " [  2   5 285]]\n",
            "Classification Report:\n",
            "              precision    recall  f1-score   support\n",
            "\n",
            "           3       0.98      0.99      0.99       250\n",
            "           4       0.97      0.98      0.98       268\n",
            "           5       0.99      0.98      0.98       292\n",
            "\n",
            "    accuracy                           0.98       810\n",
            "   macro avg       0.98      0.98      0.98       810\n",
            "weighted avg       0.98      0.98      0.98       810\n",
            "\n"
          ]
        }
      ]
    },
    {
      "cell_type": "markdown",
      "source": [
        "### 2.3. Random Forest"
      ],
      "metadata": {
        "id": "epdtHBRC9bvQ"
      }
    },
    {
      "cell_type": "markdown",
      "source": [
        "El tercer algoritmo es Random Forest. Este algoritmo \"Combina los resultados de múltiples árboles de decisión para llegar a un resultado único. Su facilidad de uso y flexibilidad han impulsado su adopción, ya que maneja tanto problemas de clasificación como de regresión.\"([IBM, What is random forest?](https://www.ibm.com/topics/random-forest#:~:text=Random%20forest%20is%20a%20commonly,Decision%20trees))"
      ],
      "metadata": {
        "id": "n4ff725pygYO"
      }
    },
    {
      "cell_type": "code",
      "source": [
        "# Crear el modelo\n",
        "rf_model = RandomForestClassifier(n_estimators=100, random_state=42)\n",
        "\n",
        "# Entrenar el modelo\n",
        "rf_model.fit(X_train, y_train)\n",
        "\n",
        "# Hacer predicciones\n",
        "y_pred_rf = rf_model.predict(X_test)\n",
        "\n",
        "# Evaluar el modelo\n",
        "accuracy_rf = accuracy_score(y_test, y_pred_rf)\n",
        "report_rf = classification_report(y_test, y_pred_rf)\n",
        "\n",
        "print(f\"Random Forest - Accuracy: {accuracy_rf}\")\n",
        "print(f\"Classification Report:\\n{report_rf}\")"
      ],
      "metadata": {
        "colab": {
          "base_uri": "https://localhost:8080/"
        },
        "id": "dfnyhMpFx_Yn",
        "outputId": "9921c1af-e810-434a-b834-a6e1d1eb9f3b"
      },
      "execution_count": 146,
      "outputs": [
        {
          "output_type": "stream",
          "name": "stdout",
          "text": [
            "Random Forest - Accuracy: 0.9703703703703703\n",
            "Classification Report:\n",
            "              precision    recall  f1-score   support\n",
            "\n",
            "           3       0.97      0.98      0.98       250\n",
            "           4       0.96      0.97      0.97       268\n",
            "           5       0.98      0.96      0.97       292\n",
            "\n",
            "    accuracy                           0.97       810\n",
            "   macro avg       0.97      0.97      0.97       810\n",
            "weighted avg       0.97      0.97      0.97       810\n",
            "\n"
          ]
        }
      ]
    },
    {
      "cell_type": "code",
      "source": [
        "y_pred = rf_model.predict(X_test)\n",
        "\n",
        "rf_accuracy = accuracy_score(y_test, y_pred)\n",
        "rf_precision = precision_score(y_test, y_pred, average='weighted')\n",
        "rf_recall = recall_score(y_test, y_pred, average='weighted')\n",
        "rf_f1 = f1_score(y_test, y_pred, average='weighted')\n",
        "\n",
        "rf_conf_matrix = confusion_matrix(y_test, y_pred)\n",
        "\n",
        "rf_class_report = classification_report(y_test, y_pred)\n",
        "\n",
        "print(f\"Accuracy: {rf_accuracy}\")\n",
        "print(f\"Precision: {rf_precision}\")\n",
        "print(f\"Recall: {rf_recall}\")\n",
        "print(f\"F1 Score: {rf_f1}\")\n",
        "print(f\"Confusion Matrix:\\n{rf_conf_matrix}\")\n",
        "print(f\"Classification Report:\\n{rf_class_report}\")"
      ],
      "metadata": {
        "colab": {
          "base_uri": "https://localhost:8080/"
        },
        "id": "51jjoYC9yyA7",
        "outputId": "ddbedfb6-24cb-4870-b883-11f2b98dabd6"
      },
      "execution_count": 147,
      "outputs": [
        {
          "output_type": "stream",
          "name": "stdout",
          "text": [
            "Accuracy: 0.9703703703703703\n",
            "Precision: 0.9704832668340293\n",
            "Recall: 0.9703703703703703\n",
            "F1 Score: 0.9703668462266671\n",
            "Confusion Matrix:\n",
            "[[245   2   3]\n",
            " [  4 261   3]\n",
            " [  3   9 280]]\n",
            "Classification Report:\n",
            "              precision    recall  f1-score   support\n",
            "\n",
            "           3       0.97      0.98      0.98       250\n",
            "           4       0.96      0.97      0.97       268\n",
            "           5       0.98      0.96      0.97       292\n",
            "\n",
            "    accuracy                           0.97       810\n",
            "   macro avg       0.97      0.97      0.97       810\n",
            "weighted avg       0.97      0.97      0.97       810\n",
            "\n"
          ]
        }
      ]
    },
    {
      "cell_type": "markdown",
      "source": [
        "## Resultados"
      ],
      "metadata": {
        "id": "Hdyr35gLuLhT"
      }
    },
    {
      "cell_type": "markdown",
      "source": [
        "### 3.1. Comparación Métricas"
      ],
      "metadata": {
        "id": "5TkqvHTAETYw"
      }
    },
    {
      "cell_type": "code",
      "source": [
        "print(\"Naive Bayes Report:\")\n",
        "print(classification_report(y_test, y_pred_nb))\n",
        "\n",
        "print(\"SVM Report:\")\n",
        "print(classification_report(y_test, y_pred_svm))\n",
        "\n",
        "print(\"Random Forest Report:\")\n",
        "print(classification_report(y_test, y_pred_rf))"
      ],
      "metadata": {
        "colab": {
          "base_uri": "https://localhost:8080/"
        },
        "id": "yWBC-wWHOfAp",
        "outputId": "c552a75f-d842-42c6-e6ff-5edbc9aba785"
      },
      "execution_count": 148,
      "outputs": [
        {
          "output_type": "stream",
          "name": "stdout",
          "text": [
            "Naive Bayes Report:\n",
            "              precision    recall  f1-score   support\n",
            "\n",
            "           3       1.00      0.97      0.98       250\n",
            "           4       0.96      0.98      0.97       268\n",
            "           5       0.96      0.97      0.97       292\n",
            "\n",
            "    accuracy                           0.97       810\n",
            "   macro avg       0.97      0.97      0.97       810\n",
            "weighted avg       0.97      0.97      0.97       810\n",
            "\n",
            "SVM Report:\n",
            "              precision    recall  f1-score   support\n",
            "\n",
            "           3       0.98      0.99      0.99       250\n",
            "           4       0.97      0.98      0.98       268\n",
            "           5       0.99      0.98      0.98       292\n",
            "\n",
            "    accuracy                           0.98       810\n",
            "   macro avg       0.98      0.98      0.98       810\n",
            "weighted avg       0.98      0.98      0.98       810\n",
            "\n",
            "Random Forest Report:\n",
            "              precision    recall  f1-score   support\n",
            "\n",
            "           3       0.97      0.98      0.98       250\n",
            "           4       0.96      0.97      0.97       268\n",
            "           5       0.98      0.96      0.97       292\n",
            "\n",
            "    accuracy                           0.97       810\n",
            "   macro avg       0.97      0.97      0.97       810\n",
            "weighted avg       0.97      0.97      0.97       810\n",
            "\n"
          ]
        }
      ]
    },
    {
      "cell_type": "code",
      "source": [
        "metrics = {\n",
        "    'Naive Bayes': {\n",
        "        'accuracy': nb_accuracy,\n",
        "        'precision': nb_precision,\n",
        "        'recall': nb_recall,\n",
        "        'f1': nb_f1\n",
        "    },\n",
        "    'SVM': {\n",
        "        'accuracy': svm_accuracy,\n",
        "        'precision': svm_precision,\n",
        "        'recall': svm_recall,\n",
        "        'f1': svm_f1\n",
        "    },\n",
        "    'Random Forest': {\n",
        "        'accuracy': rf_accuracy,\n",
        "        'precision': rf_precision,\n",
        "        'recall': rf_recall,\n",
        "        'f1': rf_f1\n",
        "    }\n",
        "}\n",
        "\n",
        "max_values = {\n",
        "    'accuracy': ('', float('-inf')),\n",
        "    'precision': ('', float('-inf')),\n",
        "    'recall': ('', float('-inf')),\n",
        "    'f1': ('', float('-inf'))\n",
        "}\n",
        "\n",
        "for model, values in metrics.items():\n",
        "    for metric in max_values:\n",
        "        if values[metric] > max_values[metric][1]:\n",
        "            max_values[metric] = (model, values[metric])\n",
        "\n",
        "for metric in max_values:\n",
        "    model, value = max_values[metric]\n",
        "    print(f\"Max {metric.capitalize()} value: {value} (Model: {model})\")\n"
      ],
      "metadata": {
        "colab": {
          "base_uri": "https://localhost:8080/"
        },
        "id": "D9kB5ENB9-h8",
        "outputId": "10fa84da-a391-4fb7-8dcc-c716ec19965e"
      },
      "execution_count": 149,
      "outputs": [
        {
          "output_type": "stream",
          "name": "stdout",
          "text": [
            "Max Accuracy value: 0.9827160493827161 (Model: SVM)\n",
            "Max Precision value: 0.9827678163171991 (Model: SVM)\n",
            "Max Recall value: 0.9827160493827161 (Model: SVM)\n",
            "Max F1 value: 0.982715770697936 (Model: SVM)\n"
          ]
        }
      ]
    },
    {
      "cell_type": "markdown",
      "source": [
        "### 3.2. Resumen de Resultados\n",
        "**Máxima precisión (accuracy):** 0.9827, alcanzada por el modelo SVM.\n",
        "**Máxima precisión (precision):** 0.9828, alcanzada por el modelo SVM.\n",
        "**Máximo recall:** 0.9827, alcanzado por el modelo SVM.\n",
        "**Máximo F1-score:** 0.9827, alcanzado por el modelo SVM.\n",
        "\n",
        "#### Evaluación Individual de Modelos\n",
        "##### Naive Bayes:\n",
        "\n",
        "**Precisión general:** 0.97\n",
        "**Precision (macro avg):** 0.98\n",
        "**Recall (macro avg):** 0.97\n",
        "**F1-score (macro avg):** 0.97\n",
        "\n",
        "Este modelo muestra un buen rendimiento general. Sin embargo, es ligeramente inferior comparado al de SVM, sobre todo al comparar el F1-score.\n",
        "\n",
        "##### Support Vector Machine (SVM):\n",
        "\n",
        "**Precisión general:** 0.98\n",
        "**Precision (macro avg):** 0.98\n",
        "**Recall (macro avg):** 0.98\n",
        "**F1-score (macro avg):** 0.98\n",
        "\n",
        "SVM es el modelo que mejor desempeño presenta en todas las métricas.\n",
        "\n",
        "##### Random Forest:\n",
        "\n",
        "**Precisión general:** 0.97\n",
        "**Precision (macro avg):** 0.97\n",
        "**Recall (macro avg):** 0.97\n",
        "**F1-score (macro avg):** 0.97\n",
        "\n",
        "Random Forest también muestra un buen rendimiento, pero es inferior al modelo SVM.\n",
        "\n",
        "##### Conclusión\n",
        "\n",
        "El modelo SVM es el más adecuado para la clasificación de opiniones en relación con los ODS, con base en las métricas calculadas. Este modelo ofrece la mejor precisión, recall y F1-score, lo que lo convierte en la opción que se tomará para entregar el proyecto."
      ],
      "metadata": {
        "id": "eu-aK6Cri_mp"
      }
    },
    {
      "cell_type": "markdown",
      "source": [
        "## Exportar el modelo"
      ],
      "metadata": {
        "id": "laAe4dlh0E1h"
      }
    },
    {
      "cell_type": "code",
      "source": [
        "import joblib\n",
        "from google.colab import files\n",
        "\n",
        "joblib.dump(svm_model, 'svm_model.pkl')"
      ],
      "metadata": {
        "colab": {
          "base_uri": "https://localhost:8080/"
        },
        "id": "VNbWMYdg0HS_",
        "outputId": "e8fcaca3-3a92-42ca-e216-62e29775b9cf"
      },
      "execution_count": 150,
      "outputs": [
        {
          "output_type": "execute_result",
          "data": {
            "text/plain": [
              "['svm_model.pkl']"
            ]
          },
          "metadata": {},
          "execution_count": 150
        }
      ]
    },
    {
      "cell_type": "markdown",
      "source": [
        "## Aplicación del modelo"
      ],
      "metadata": {
        "id": "ySpjxLZTwlMR"
      }
    },
    {
      "cell_type": "markdown",
      "source": [
        "Simulando la puesta en operación del modelo, se realizará el proceso de carga, limpieza, preprocesamiento y predicción del modelo sobre el conjunto de datos de prueba suministrados. Se crea una columna para almacenar la etiqueta con tipo de dato int64 respectiva a los ODS."
      ],
      "metadata": {
        "id": "Kk4Q_c-txvAw"
      }
    },
    {
      "cell_type": "code",
      "source": [
        "df_pruebas = pd.read_excel('./TestODScat_345.xlsx')\n",
        "df_pruebas.head()"
      ],
      "metadata": {
        "colab": {
          "base_uri": "https://localhost:8080/",
          "height": 206
        },
        "id": "iDppMAS_xtwk",
        "outputId": "aff69d69-abb5-4e56-fc90-5d8a04fe0e3c"
      },
      "execution_count": 151,
      "outputs": [
        {
          "output_type": "execute_result",
          "data": {
            "text/plain": [
              "                                      Textos_espanol  sdg\n",
              "0   Han examinado la contribuciÃ³n de las univers...  NaN\n",
              "1  En la última década, y en particular desde 201...  NaN\n",
              "2  ¿En qué países los estudiantes de alto rendimi...  NaN\n",
              "3  A raíz de su preocupación por el hecho de que ...  NaN\n",
              "4  1999|H5|, Ares Abalde, 2014[ij]. El pequeño nú...  NaN"
            ],
            "text/html": [
              "\n",
              "  <div id=\"df-d8146ead-6347-48e5-818c-172642e4d9d0\" class=\"colab-df-container\">\n",
              "    <div>\n",
              "<style scoped>\n",
              "    .dataframe tbody tr th:only-of-type {\n",
              "        vertical-align: middle;\n",
              "    }\n",
              "\n",
              "    .dataframe tbody tr th {\n",
              "        vertical-align: top;\n",
              "    }\n",
              "\n",
              "    .dataframe thead th {\n",
              "        text-align: right;\n",
              "    }\n",
              "</style>\n",
              "<table border=\"1\" class=\"dataframe\">\n",
              "  <thead>\n",
              "    <tr style=\"text-align: right;\">\n",
              "      <th></th>\n",
              "      <th>Textos_espanol</th>\n",
              "      <th>sdg</th>\n",
              "    </tr>\n",
              "  </thead>\n",
              "  <tbody>\n",
              "    <tr>\n",
              "      <th>0</th>\n",
              "      <td>Han examinado la contribuciÃ³n de las univers...</td>\n",
              "      <td>NaN</td>\n",
              "    </tr>\n",
              "    <tr>\n",
              "      <th>1</th>\n",
              "      <td>En la última década, y en particular desde 201...</td>\n",
              "      <td>NaN</td>\n",
              "    </tr>\n",
              "    <tr>\n",
              "      <th>2</th>\n",
              "      <td>¿En qué países los estudiantes de alto rendimi...</td>\n",
              "      <td>NaN</td>\n",
              "    </tr>\n",
              "    <tr>\n",
              "      <th>3</th>\n",
              "      <td>A raíz de su preocupación por el hecho de que ...</td>\n",
              "      <td>NaN</td>\n",
              "    </tr>\n",
              "    <tr>\n",
              "      <th>4</th>\n",
              "      <td>1999|H5|, Ares Abalde, 2014[ij]. El pequeño nú...</td>\n",
              "      <td>NaN</td>\n",
              "    </tr>\n",
              "  </tbody>\n",
              "</table>\n",
              "</div>\n",
              "    <div class=\"colab-df-buttons\">\n",
              "\n",
              "  <div class=\"colab-df-container\">\n",
              "    <button class=\"colab-df-convert\" onclick=\"convertToInteractive('df-d8146ead-6347-48e5-818c-172642e4d9d0')\"\n",
              "            title=\"Convert this dataframe to an interactive table.\"\n",
              "            style=\"display:none;\">\n",
              "\n",
              "  <svg xmlns=\"http://www.w3.org/2000/svg\" height=\"24px\" viewBox=\"0 -960 960 960\">\n",
              "    <path d=\"M120-120v-720h720v720H120Zm60-500h600v-160H180v160Zm220 220h160v-160H400v160Zm0 220h160v-160H400v160ZM180-400h160v-160H180v160Zm440 0h160v-160H620v160ZM180-180h160v-160H180v160Zm440 0h160v-160H620v160Z\"/>\n",
              "  </svg>\n",
              "    </button>\n",
              "\n",
              "  <style>\n",
              "    .colab-df-container {\n",
              "      display:flex;\n",
              "      gap: 12px;\n",
              "    }\n",
              "\n",
              "    .colab-df-convert {\n",
              "      background-color: #E8F0FE;\n",
              "      border: none;\n",
              "      border-radius: 50%;\n",
              "      cursor: pointer;\n",
              "      display: none;\n",
              "      fill: #1967D2;\n",
              "      height: 32px;\n",
              "      padding: 0 0 0 0;\n",
              "      width: 32px;\n",
              "    }\n",
              "\n",
              "    .colab-df-convert:hover {\n",
              "      background-color: #E2EBFA;\n",
              "      box-shadow: 0px 1px 2px rgba(60, 64, 67, 0.3), 0px 1px 3px 1px rgba(60, 64, 67, 0.15);\n",
              "      fill: #174EA6;\n",
              "    }\n",
              "\n",
              "    .colab-df-buttons div {\n",
              "      margin-bottom: 4px;\n",
              "    }\n",
              "\n",
              "    [theme=dark] .colab-df-convert {\n",
              "      background-color: #3B4455;\n",
              "      fill: #D2E3FC;\n",
              "    }\n",
              "\n",
              "    [theme=dark] .colab-df-convert:hover {\n",
              "      background-color: #434B5C;\n",
              "      box-shadow: 0px 1px 3px 1px rgba(0, 0, 0, 0.15);\n",
              "      filter: drop-shadow(0px 1px 2px rgba(0, 0, 0, 0.3));\n",
              "      fill: #FFFFFF;\n",
              "    }\n",
              "  </style>\n",
              "\n",
              "    <script>\n",
              "      const buttonEl =\n",
              "        document.querySelector('#df-d8146ead-6347-48e5-818c-172642e4d9d0 button.colab-df-convert');\n",
              "      buttonEl.style.display =\n",
              "        google.colab.kernel.accessAllowed ? 'block' : 'none';\n",
              "\n",
              "      async function convertToInteractive(key) {\n",
              "        const element = document.querySelector('#df-d8146ead-6347-48e5-818c-172642e4d9d0');\n",
              "        const dataTable =\n",
              "          await google.colab.kernel.invokeFunction('convertToInteractive',\n",
              "                                                    [key], {});\n",
              "        if (!dataTable) return;\n",
              "\n",
              "        const docLinkHtml = 'Like what you see? Visit the ' +\n",
              "          '<a target=\"_blank\" href=https://colab.research.google.com/notebooks/data_table.ipynb>data table notebook</a>'\n",
              "          + ' to learn more about interactive tables.';\n",
              "        element.innerHTML = '';\n",
              "        dataTable['output_type'] = 'display_data';\n",
              "        await google.colab.output.renderOutput(dataTable, element);\n",
              "        const docLink = document.createElement('div');\n",
              "        docLink.innerHTML = docLinkHtml;\n",
              "        element.appendChild(docLink);\n",
              "      }\n",
              "    </script>\n",
              "  </div>\n",
              "\n",
              "\n",
              "<div id=\"df-06bd46a8-44cd-4e9a-9620-8d6f6971ffea\">\n",
              "  <button class=\"colab-df-quickchart\" onclick=\"quickchart('df-06bd46a8-44cd-4e9a-9620-8d6f6971ffea')\"\n",
              "            title=\"Suggest charts\"\n",
              "            style=\"display:none;\">\n",
              "\n",
              "<svg xmlns=\"http://www.w3.org/2000/svg\" height=\"24px\"viewBox=\"0 0 24 24\"\n",
              "     width=\"24px\">\n",
              "    <g>\n",
              "        <path d=\"M19 3H5c-1.1 0-2 .9-2 2v14c0 1.1.9 2 2 2h14c1.1 0 2-.9 2-2V5c0-1.1-.9-2-2-2zM9 17H7v-7h2v7zm4 0h-2V7h2v10zm4 0h-2v-4h2v4z\"/>\n",
              "    </g>\n",
              "</svg>\n",
              "  </button>\n",
              "\n",
              "<style>\n",
              "  .colab-df-quickchart {\n",
              "      --bg-color: #E8F0FE;\n",
              "      --fill-color: #1967D2;\n",
              "      --hover-bg-color: #E2EBFA;\n",
              "      --hover-fill-color: #174EA6;\n",
              "      --disabled-fill-color: #AAA;\n",
              "      --disabled-bg-color: #DDD;\n",
              "  }\n",
              "\n",
              "  [theme=dark] .colab-df-quickchart {\n",
              "      --bg-color: #3B4455;\n",
              "      --fill-color: #D2E3FC;\n",
              "      --hover-bg-color: #434B5C;\n",
              "      --hover-fill-color: #FFFFFF;\n",
              "      --disabled-bg-color: #3B4455;\n",
              "      --disabled-fill-color: #666;\n",
              "  }\n",
              "\n",
              "  .colab-df-quickchart {\n",
              "    background-color: var(--bg-color);\n",
              "    border: none;\n",
              "    border-radius: 50%;\n",
              "    cursor: pointer;\n",
              "    display: none;\n",
              "    fill: var(--fill-color);\n",
              "    height: 32px;\n",
              "    padding: 0;\n",
              "    width: 32px;\n",
              "  }\n",
              "\n",
              "  .colab-df-quickchart:hover {\n",
              "    background-color: var(--hover-bg-color);\n",
              "    box-shadow: 0 1px 2px rgba(60, 64, 67, 0.3), 0 1px 3px 1px rgba(60, 64, 67, 0.15);\n",
              "    fill: var(--button-hover-fill-color);\n",
              "  }\n",
              "\n",
              "  .colab-df-quickchart-complete:disabled,\n",
              "  .colab-df-quickchart-complete:disabled:hover {\n",
              "    background-color: var(--disabled-bg-color);\n",
              "    fill: var(--disabled-fill-color);\n",
              "    box-shadow: none;\n",
              "  }\n",
              "\n",
              "  .colab-df-spinner {\n",
              "    border: 2px solid var(--fill-color);\n",
              "    border-color: transparent;\n",
              "    border-bottom-color: var(--fill-color);\n",
              "    animation:\n",
              "      spin 1s steps(1) infinite;\n",
              "  }\n",
              "\n",
              "  @keyframes spin {\n",
              "    0% {\n",
              "      border-color: transparent;\n",
              "      border-bottom-color: var(--fill-color);\n",
              "      border-left-color: var(--fill-color);\n",
              "    }\n",
              "    20% {\n",
              "      border-color: transparent;\n",
              "      border-left-color: var(--fill-color);\n",
              "      border-top-color: var(--fill-color);\n",
              "    }\n",
              "    30% {\n",
              "      border-color: transparent;\n",
              "      border-left-color: var(--fill-color);\n",
              "      border-top-color: var(--fill-color);\n",
              "      border-right-color: var(--fill-color);\n",
              "    }\n",
              "    40% {\n",
              "      border-color: transparent;\n",
              "      border-right-color: var(--fill-color);\n",
              "      border-top-color: var(--fill-color);\n",
              "    }\n",
              "    60% {\n",
              "      border-color: transparent;\n",
              "      border-right-color: var(--fill-color);\n",
              "    }\n",
              "    80% {\n",
              "      border-color: transparent;\n",
              "      border-right-color: var(--fill-color);\n",
              "      border-bottom-color: var(--fill-color);\n",
              "    }\n",
              "    90% {\n",
              "      border-color: transparent;\n",
              "      border-bottom-color: var(--fill-color);\n",
              "    }\n",
              "  }\n",
              "</style>\n",
              "\n",
              "  <script>\n",
              "    async function quickchart(key) {\n",
              "      const quickchartButtonEl =\n",
              "        document.querySelector('#' + key + ' button');\n",
              "      quickchartButtonEl.disabled = true;  // To prevent multiple clicks.\n",
              "      quickchartButtonEl.classList.add('colab-df-spinner');\n",
              "      try {\n",
              "        const charts = await google.colab.kernel.invokeFunction(\n",
              "            'suggestCharts', [key], {});\n",
              "      } catch (error) {\n",
              "        console.error('Error during call to suggestCharts:', error);\n",
              "      }\n",
              "      quickchartButtonEl.classList.remove('colab-df-spinner');\n",
              "      quickchartButtonEl.classList.add('colab-df-quickchart-complete');\n",
              "    }\n",
              "    (() => {\n",
              "      let quickchartButtonEl =\n",
              "        document.querySelector('#df-06bd46a8-44cd-4e9a-9620-8d6f6971ffea button');\n",
              "      quickchartButtonEl.style.display =\n",
              "        google.colab.kernel.accessAllowed ? 'block' : 'none';\n",
              "    })();\n",
              "  </script>\n",
              "</div>\n",
              "\n",
              "    </div>\n",
              "  </div>\n"
            ],
            "application/vnd.google.colaboratory.intrinsic+json": {
              "type": "dataframe",
              "variable_name": "df_pruebas",
              "summary": "{\n  \"name\": \"df_pruebas\",\n  \"rows\": 702,\n  \"fields\": [\n    {\n      \"column\": \"Textos_espanol\",\n      \"properties\": {\n        \"dtype\": \"string\",\n        \"num_unique_values\": 702,\n        \"samples\": [\n          \"Un posible punto d\\u00e9bil es que solo hay un tope para los cargos para los enfermos cr\\u00f3nicos. Ampliar este tope a la poblaci\\u00f3n en general reducir\\u00eda potencialmente el riesgo de que los hogares de bajos ingresos (particularmente los grandes) se vean disuadidos de acceder al sistema de salud. Finalmente, los copagos por los servicios del NHI no deben ser el \\u00fanico enfoque, ya que los pagos directos vinculados a Shaban o al seguro comercial tambi\\u00e9n pueden ser significativos para aquellos hogares que gastan una parte sustancial de sus ingresos en servicios de atenci\\u00f3n m\\u00e9dica. Un enfoque es basar la elegibilidad en si los individuos (u hogares) reciben el beneficio de Apoyo a los Ingresos del Instituto Nacional de Seguros (Nil's) (o el Suplemento de Ingresos en el caso de los pensionistas). Sin embargo, los criterios de elegibilidad para este apoyo son tan estrictos que una parte significativa de los hogares de bajos ingresos no recibe estos beneficios. Claramente, el acceso a la atenci\\u00f3n de la salud se fortalecer\\u00eda si se ampliara el acceso a ellos, como se ha sugerido en otros an\\u00e1lisis de la OCDE (OCDE, 2010a, 2010b y 2011b).\",\n          \"Los flujos de ayuda restantes que no se compararon con el marcador se atribuyeron principalmente a los informes de los Estados Unidos. Los otros 23 miembros del DAC combinaron un total del 92% de su ayuda. Canad\\u00e1 se destaca como la excepci\\u00f3n en este sentido, con el 42,4% de su ayuda dirigida a la igualdad de g\\u00e9nero como objetivo principal.\",\n          \"Considera que el Nivel 2 en lectura y matem\\u00e1ticas es el nivel m\\u00ednimo de competencia necesario para que los alumnos participen plenamente en la sociedad del conocimiento (v\\u00e9ase la secci\\u00f3n Definiciones). En Estonia, Finlandia y Jap\\u00f3n, al menos el 83% de los alumnos alcanzan el Nivel 2 o superior tanto en lectura como en matem\\u00e1ticas, mientras que menos del 35% de los alumnos lo hacen en Brasil, Colombia y Costa Rica. Sin embargo, PISA tambi\\u00e9n muestra sistem\\u00e1ticamente que un alto rendimiento y una mayor equidad no son mutuamente excluyentes (Figura 2). De hecho, poder mejorar el rendimiento de todos los estudiantes, independientemente de su origen, es necesario para que los pa\\u00edses se conviertan en pa\\u00edses de alto rendimiento y alcancen las metas del ODS 4. \"\n        ],\n        \"semantic_type\": \"\",\n        \"description\": \"\"\n      }\n    },\n    {\n      \"column\": \"sdg\",\n      \"properties\": {\n        \"dtype\": \"number\",\n        \"std\": null,\n        \"min\": null,\n        \"max\": null,\n        \"num_unique_values\": 0,\n        \"samples\": [],\n        \"semantic_type\": \"\",\n        \"description\": \"\"\n      }\n    }\n  ]\n}"
            }
          },
          "metadata": {},
          "execution_count": 151
        }
      ]
    },
    {
      "cell_type": "code",
      "source": [
        "df_pruebas['Textos_preprocesados'] = df_pruebas['Textos_espanol'].apply(preprocess_text)\n",
        "X_pruebas = vectorizer.transform(df_pruebas['Textos_preprocesados'])"
      ],
      "metadata": {
        "id": "bTJxtnTtzdOP"
      },
      "execution_count": 152,
      "outputs": []
    },
    {
      "cell_type": "code",
      "source": [
        "svm_model = joblib.load('./svm_model.pkl')\n",
        "predicciones = svm_model.predict(X_pruebas)\n",
        "\n",
        "df_pruebas['sdg'] = predicciones\n",
        "df_pruebas[['Textos_espanol', 'sdg']].to_excel('./PruebasODS_Predicciones.xlsx', index=False)\n",
        "files.download('./PruebasODS_Predicciones.xlsx')"
      ],
      "metadata": {
        "colab": {
          "base_uri": "https://localhost:8080/",
          "height": 17
        },
        "id": "KkWg8uiNzrXP",
        "outputId": "4c02ce13-d590-4c91-ef01-db1a11f28ac7"
      },
      "execution_count": 153,
      "outputs": [
        {
          "output_type": "display_data",
          "data": {
            "text/plain": [
              "<IPython.core.display.Javascript object>"
            ],
            "application/javascript": [
              "\n",
              "    async function download(id, filename, size) {\n",
              "      if (!google.colab.kernel.accessAllowed) {\n",
              "        return;\n",
              "      }\n",
              "      const div = document.createElement('div');\n",
              "      const label = document.createElement('label');\n",
              "      label.textContent = `Downloading \"${filename}\": `;\n",
              "      div.appendChild(label);\n",
              "      const progress = document.createElement('progress');\n",
              "      progress.max = size;\n",
              "      div.appendChild(progress);\n",
              "      document.body.appendChild(div);\n",
              "\n",
              "      const buffers = [];\n",
              "      let downloaded = 0;\n",
              "\n",
              "      const channel = await google.colab.kernel.comms.open(id);\n",
              "      // Send a message to notify the kernel that we're ready.\n",
              "      channel.send({})\n",
              "\n",
              "      for await (const message of channel.messages) {\n",
              "        // Send a message to notify the kernel that we're ready.\n",
              "        channel.send({})\n",
              "        if (message.buffers) {\n",
              "          for (const buffer of message.buffers) {\n",
              "            buffers.push(buffer);\n",
              "            downloaded += buffer.byteLength;\n",
              "            progress.value = downloaded;\n",
              "          }\n",
              "        }\n",
              "      }\n",
              "      const blob = new Blob(buffers, {type: 'application/binary'});\n",
              "      const a = document.createElement('a');\n",
              "      a.href = window.URL.createObjectURL(blob);\n",
              "      a.download = filename;\n",
              "      div.appendChild(a);\n",
              "      a.click();\n",
              "      div.remove();\n",
              "    }\n",
              "  "
            ]
          },
          "metadata": {}
        },
        {
          "output_type": "display_data",
          "data": {
            "text/plain": [
              "<IPython.core.display.Javascript object>"
            ],
            "application/javascript": [
              "download(\"download_5b77d2f8-44fc-4598-835e-1e0be46c2d6e\", \"PruebasODS_Predicciones.xlsx\", 184095)"
            ]
          },
          "metadata": {}
        }
      ]
    }
  ]
}